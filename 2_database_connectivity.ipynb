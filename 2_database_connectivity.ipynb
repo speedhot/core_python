{
 "cells": [
  {
   "cell_type": "markdown",
   "metadata": {},
   "source": [
    "# Database connectivity and operations\n"
   ]
  },
  {
   "cell_type": "code",
   "execution_count": 5,
   "metadata": {},
   "outputs": [
    {
     "name": "stdout",
     "output_type": "stream",
     "text": [
      "['Binary', 'Cache', 'Connection', 'Cursor', 'DataError', 'DatabaseError', 'Date', 'DateFromTicks', 'Error', 'IntegrityError', 'InterfaceError', 'InternalError', 'NotSupportedError', 'OperationalError', 'OptimizedUnicode', 'PARSE_COLNAMES', 'PARSE_DECLTYPES', 'PrepareProtocol', 'ProgrammingError', 'Row', 'SQLITE_ALTER_TABLE', 'SQLITE_ANALYZE', 'SQLITE_ATTACH', 'SQLITE_CREATE_INDEX', 'SQLITE_CREATE_TABLE', 'SQLITE_CREATE_TEMP_INDEX', 'SQLITE_CREATE_TEMP_TABLE', 'SQLITE_CREATE_TEMP_TRIGGER', 'SQLITE_CREATE_TEMP_VIEW', 'SQLITE_CREATE_TRIGGER', 'SQLITE_CREATE_VIEW', 'SQLITE_CREATE_VTABLE', 'SQLITE_DELETE', 'SQLITE_DENY', 'SQLITE_DETACH', 'SQLITE_DONE', 'SQLITE_DROP_INDEX', 'SQLITE_DROP_TABLE', 'SQLITE_DROP_TEMP_INDEX', 'SQLITE_DROP_TEMP_TABLE', 'SQLITE_DROP_TEMP_TRIGGER', 'SQLITE_DROP_TEMP_VIEW', 'SQLITE_DROP_TRIGGER', 'SQLITE_DROP_VIEW', 'SQLITE_DROP_VTABLE', 'SQLITE_FUNCTION', 'SQLITE_IGNORE', 'SQLITE_INSERT', 'SQLITE_OK', 'SQLITE_PRAGMA', 'SQLITE_READ', 'SQLITE_RECURSIVE', 'SQLITE_REINDEX', 'SQLITE_SAVEPOINT', 'SQLITE_SELECT', 'SQLITE_TRANSACTION', 'SQLITE_UPDATE', 'Statement', 'Time', 'TimeFromTicks', 'Timestamp', 'TimestampFromTicks', 'Warning', '__builtins__', '__cached__', '__doc__', '__file__', '__loader__', '__name__', '__package__', '__path__', '__spec__', 'adapt', 'adapters', 'apilevel', 'collections', 'complete_statement', 'connect', 'converters', 'datetime', 'dbapi2', 'enable_callback_tracebacks', 'enable_shared_cache', 'paramstyle', 'register_adapter', 'register_converter', 'sqlite_version', 'sqlite_version_info', 'threadsafety', 'time', 'version', 'version_info']\n"
     ]
    }
   ],
   "source": [
    "import sqlite3\n",
    "print(dir(sqlite3))"
   ]
  },
  {
   "cell_type": "code",
   "execution_count": 2,
   "metadata": {},
   "outputs": [
    {
     "data": {
      "text/plain": [
       "<sqlite3.Cursor at 0x58131f0>"
      ]
     },
     "execution_count": 2,
     "metadata": {},
     "output_type": "execute_result"
    }
   ],
   "source": [
    "import sqlite3\n",
    "#connecting with the database. \n",
    "db = sqlite3.connect(\"my_database1.db\")\n",
    "# Drop table if it already exist using execute() method. \n",
    "db.execute(\"drop table if exists students\") # Create table as per requirement\n",
    "db.execute(\"create table students(id int, name text, score int)\")\n",
    "#inserting values inside the created table\n",
    "db.execute(\"insert into students(id, name, score) values(101, 'John',99 )\") \n",
    "db.execute(\"insert into students(id, name, score) values(102, 'Gary',90 )\") \n",
    "db.execute(\"insert into students(id, name, score) values(103, 'James', 80 )\") \n",
    "db.execute(\"insert into students(id, name, score) values(104, 'Cathy', 85 )\") \n",
    "db.execute(\"insert into students(id, name, score) values(105, 'Kris',95 )\")"
   ]
  },
  {
   "cell_type": "code",
   "execution_count": 3,
   "metadata": {},
   "outputs": [],
   "source": [
    "db.commit()"
   ]
  },
  {
   "cell_type": "code",
   "execution_count": 21,
   "metadata": {},
   "outputs": [
    {
     "name": "stdout",
     "output_type": "stream",
     "text": [
      "To check the type of result set <class 'sqlite3.Cursor'>\n",
      "[(101, 'John', 99), (102, 'Gary', 90), (103, 'James', 80), (104, 'Cathy', 85), (105, 'Kris', 95)]\n",
      "101 John 99\n",
      "102 Gary 90\n",
      "103 James 80\n",
      "104 Cathy 85\n",
      "105 Kris 95\n",
      "{101: 'John', 102: 'Gary', 103: 'James', 104: 'Cathy', 105: 'Kris'}\n"
     ]
    }
   ],
   "source": [
    "results = db.execute(\"select * from students order by id\")\n",
    "print(\"To check the type of result set\",type(results))\n",
    "data_list=[] #takind data into list\n",
    "for row in results:\n",
    "    data_list.append(row)\n",
    "print(data_list)\n",
    "for id in data_list:\n",
    "    print(id[0], id[1],id[2])\n",
    "    \n",
    "    \n",
    "#taking data into dictionary\n",
    "d={}\n",
    "for id in data_list:\n",
    "    d.update({id[0]:id[1]})\n",
    "print(d)"
   ]
  },
  {
   "cell_type": "code",
   "execution_count": 23,
   "metadata": {},
   "outputs": [
    {
     "name": "stdout",
     "output_type": "stream",
     "text": [
      "('John',)\n",
      "('Gary',)\n",
      "('James',)\n",
      "('Cathy',)\n",
      "('Kris',)\n"
     ]
    }
   ],
   "source": [
    "results = db.execute(\"select name from students order by id\")\n",
    "for name in results:\n",
    "    print(name)"
   ]
  },
  {
   "cell_type": "markdown",
   "metadata": {},
   "source": [
    "### In this similar fashion we can run several different types of queries and and hold results in diff structures\n",
    "## provided by python like --->list,set,dictionary, tuple ,string....etc."
   ]
  }
 ],
 "metadata": {
  "kernelspec": {
   "display_name": "Python 3",
   "language": "python",
   "name": "python3"
  },
  "language_info": {
   "codemirror_mode": {
    "name": "ipython",
    "version": 3
   },
   "file_extension": ".py",
   "mimetype": "text/x-python",
   "name": "python",
   "nbconvert_exporter": "python",
   "pygments_lexer": "ipython3",
   "version": "3.7.0"
  }
 },
 "nbformat": 4,
 "nbformat_minor": 2
}

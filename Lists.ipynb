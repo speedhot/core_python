{
 "cells": [
  {
   "cell_type": "markdown",
   "metadata": {},
   "source": [
    "# List (a Mutable Data type)\n",
    "unlike string it is mutable data type means it can be changed\n",
    "can created like\n",
    "l=[\"item1\", \"item2\"]\n",
    "it is somehow sequence in another languages"
   ]
  },
  {
   "cell_type": "code",
   "execution_count": 4,
   "metadata": {},
   "outputs": [
    {
     "name": "stdout",
     "output_type": "stream",
     "text": [
      "['kunwar', 'bijnor', 'a', '33', 'abc123']\n"
     ]
    }
   ],
   "source": [
    "#example of creating list\n",
    "l=['kunwar', 'bijnor','a','33','abc123']\n",
    "print(l)"
   ]
  },
  {
   "cell_type": "code",
   "execution_count": 5,
   "metadata": {},
   "outputs": [
    {
     "data": {
      "text/plain": [
       "5"
      ]
     },
     "execution_count": 5,
     "metadata": {},
     "output_type": "execute_result"
    }
   ],
   "source": [
    "#calculating length\n",
    "len(l)"
   ]
  },
  {
   "cell_type": "markdown",
   "metadata": {},
   "source": [
    "# Indexing and Slicing"
   ]
  },
  {
   "cell_type": "code",
   "execution_count": 6,
   "metadata": {},
   "outputs": [
    {
     "name": "stdout",
     "output_type": "stream",
     "text": [
      "kunwar\n"
     ]
    }
   ],
   "source": [
    "#getting particular\n",
    "print(l[0])"
   ]
  },
  {
   "cell_type": "code",
   "execution_count": 13,
   "metadata": {},
   "outputs": [
    {
     "name": "stdout",
     "output_type": "stream",
     "text": [
      "k\n",
      "u\n",
      "n\n",
      "w\n",
      "a\n",
      "r\n",
      "b\n",
      "i\n",
      "j\n",
      "n\n",
      "o\n",
      "r\n",
      "a\n",
      "3\n",
      "3\n",
      "a\n",
      "b\n",
      "c\n",
      "1\n",
      "2\n",
      "3\n",
      "21\n"
     ]
    }
   ],
   "source": [
    "#printing list with for \n",
    "count=0\n",
    "for item in l:\n",
    "    for i in item:\n",
    "        print(i)\n",
    "        count+=1\n",
    "print (count)        \n",
    "    \n",
    " \n"
   ]
  },
  {
   "cell_type": "code",
   "execution_count": 17,
   "metadata": {},
   "outputs": [
    {
     "name": "stdout",
     "output_type": "stream",
     "text": [
      "kunwar\n",
      "bijnor\n",
      "a\n",
      "33\n",
      "abc123\n",
      "kunwar\n",
      "bijnor\n",
      "a\n",
      "33\n",
      "abc123\n"
     ]
    }
   ],
   "source": [
    "#next of printing\n",
    "for i in range(5):\n",
    "    print(l[i])\n",
    "#printing by length\n",
    "for m in range(len(l)):\n",
    "    print(l[m])"
   ]
  },
  {
   "cell_type": "code",
   "execution_count": 22,
   "metadata": {},
   "outputs": [
    {
     "name": "stdout",
     "output_type": "stream",
     "text": [
      "bijnor\n",
      "33\n",
      "kunwar\n",
      "a\n",
      "abc123\n"
     ]
    }
   ],
   "source": [
    "#Operation example -printing the odd positions item\n",
    "for i in range(5):\n",
    "    if i%2==0:\n",
    "        continue\n",
    "    print(l[i])\n",
    "#printing of even position item\n",
    "for z in range(len(l)):\n",
    "    if z%2==1:\n",
    "        continue\n",
    "    else:\n",
    "        print(l[z])"
   ]
  },
  {
   "cell_type": "code",
   "execution_count": 4,
   "metadata": {},
   "outputs": [
    {
     "name": "stdout",
     "output_type": "stream",
     "text": [
      "[('a', 2), 'aman', 4, 5, 'bijnor', '@']\n"
     ]
    }
   ],
   "source": [
    "#list as a combination of any type of data type\n",
    "tpl=('a',2)\n",
    "str1='aman'\n",
    "l=[tpl,str1,4,5,'bijnor','@']\n",
    "print(l)"
   ]
  },
  {
   "cell_type": "code",
   "execution_count": 24,
   "metadata": {},
   "outputs": [
    {
     "name": "stdout",
     "output_type": "stream",
     "text": [
      "kunwar\n",
      "bijnor\n",
      "a\n",
      "33\n",
      "abc123\n",
      "kunwar bijnor a 33 abc123 "
     ]
    }
   ],
   "source": [
    "#now rotate with for loop\n",
    "for i in l:\n",
    "    print(i)\n",
    "    \n",
    "#to print in a single line\n",
    "\n",
    "for i in l:\n",
    "    print(i, end=\" \")\n",
    "    \n",
    "#end=\" can put any character in between\""
   ]
  },
  {
   "cell_type": "code",
   "execution_count": 25,
   "metadata": {},
   "outputs": [
    {
     "name": "stdout",
     "output_type": "stream",
     "text": [
      "['bijnor', 'a', '33', 'abc123']\n",
      "['33', 'abc123']\n"
     ]
    }
   ],
   "source": [
    "#slicing like string\n",
    "print(l[1:])\n",
    "print(l[3:])"
   ]
  },
  {
   "cell_type": "code",
   "execution_count": 26,
   "metadata": {},
   "outputs": [
    {
     "name": "stdout",
     "output_type": "stream",
     "text": [
      "['kunwar', 'bijnor', 'a', '33', 'abc123']\n",
      "['kunwar', 'bijnor', 'a', '33']\n"
     ]
    }
   ],
   "source": [
    "#slicing like string\n",
    "print(l)\n",
    "print(l[:-1])"
   ]
  },
  {
   "cell_type": "code",
   "execution_count": 38,
   "metadata": {},
   "outputs": [
    {
     "name": "stdout",
     "output_type": "stream",
     "text": [
      "['kunwar', 'bijnor', 'a', '33', 'abc123']\n",
      "[]\n",
      "['bijnor', 'a', '33']\n",
      "['kunwar', 'bijnor', 'a', '33', 'abc123']\n"
     ]
    }
   ],
   "source": [
    "#slicing like string\n",
    "print(l)\n",
    "print(l[-1:-1])\n",
    "print(l[1:-1])\n",
    "print(l)"
   ]
  },
  {
   "cell_type": "code",
   "execution_count": 39,
   "metadata": {},
   "outputs": [
    {
     "name": "stdout",
     "output_type": "stream",
     "text": [
      "['kunwar', 'bijnor', 'a', '33', 'abc123']\n"
     ]
    }
   ],
   "source": [
    "print(l)"
   ]
  },
  {
   "cell_type": "code",
   "execution_count": 45,
   "metadata": {},
   "outputs": [
    {
     "name": "stdout",
     "output_type": "stream",
     "text": [
      "['kunwar', 'bijnor', 'a', '33', 'abc123', 'a', 'a', 'a', 'a']\n"
     ]
    }
   ],
   "source": [
    "#conactenate new item like string with '+'\n",
    "l+['a']\n",
    "print(l)\n",
    "\n",
    "#or\n"
   ]
  },
  {
   "cell_type": "code",
   "execution_count": 19,
   "metadata": {},
   "outputs": [
    {
     "name": "stdout",
     "output_type": "stream",
     "text": [
      "amanaman\n",
      "[('a', 2), 'aman', 4, 5, 'bijnor', '@', 'a', ('a', 2), 'aman', 4, 5, 'bijnor', '@', 'a']\n"
     ]
    }
   ],
   "source": [
    "#multiply the list values as string\n",
    "s='aman'\n",
    "print(s*2)\n",
    "\n",
    "#similar to list\n",
    "print(l*2)"
   ]
  },
  {
   "cell_type": "code",
   "execution_count": 21,
   "metadata": {},
   "outputs": [
    {
     "name": "stdout",
     "output_type": "stream",
     "text": [
      "[('a', 2), 'aman', 4, 5, 'bijnor', '@', 'a']\n"
     ]
    }
   ],
   "source": [
    "#doubling is not permanent\n",
    "print(l) "
   ]
  },
  {
   "cell_type": "markdown",
   "metadata": {},
   "source": [
    "# Basic List Methods\n",
    "list is simply as an array in another lang"
   ]
  },
  {
   "cell_type": "code",
   "execution_count": 46,
   "metadata": {},
   "outputs": [
    {
     "name": "stdout",
     "output_type": "stream",
     "text": [
      "['kunwar', 'bijnor', 'a', '33', 'abc123', 'a', 'a', 'a', 'a', 'new_value']\n"
     ]
    }
   ],
   "source": [
    "#append list\n",
    "l.append('new_value')\n",
    "print(l)"
   ]
  },
  {
   "cell_type": "code",
   "execution_count": 47,
   "metadata": {},
   "outputs": [
    {
     "name": "stdout",
     "output_type": "stream",
     "text": [
      "kunwar\n"
     ]
    }
   ],
   "source": [
    "#if array than support of Stack operations\n",
    "print(l.pop(0))"
   ]
  },
  {
   "cell_type": "code",
   "execution_count": null,
   "metadata": {},
   "outputs": [],
   "source": []
  },
  {
   "cell_type": "code",
   "execution_count": null,
   "metadata": {},
   "outputs": [],
   "source": []
  },
  {
   "cell_type": "code",
   "execution_count": 48,
   "metadata": {},
   "outputs": [
    {
     "name": "stdout",
     "output_type": "stream",
     "text": [
      "9\n",
      "['bijnor', 'a', '33', 'abc123', 'a', 'a', 'a', 'a', 'new_value']\n"
     ]
    }
   ],
   "source": [
    "#if array than support of Stack operations\n",
    "print(len(l))\n",
    "print(l)\n",
    "#print(l.pop(0))"
   ]
  },
  {
   "cell_type": "code",
   "execution_count": 10,
   "metadata": {},
   "outputs": [
    {
     "name": "stdout",
     "output_type": "stream",
     "text": [
      "['management', 'and', 'engineering', 'of', 'college', 'vira', 'satya', 'kunwar']\n"
     ]
    }
   ],
   "source": [
    "l=\"kunwar satya vira college of engineering and management\"\n",
    "l1=l.split()\n",
    "l1.reverse()\n",
    "print(l1)"
   ]
  },
  {
   "cell_type": "code",
   "execution_count": 11,
   "metadata": {},
   "outputs": [
    {
     "name": "stdout",
     "output_type": "stream",
     "text": [
      "[['management', 'and', 'engineering', 'of', 'college', 'vira', 'satya', 'kunwar'], [1, 2, 3], 1, 2, 3]\n"
     ]
    }
   ],
   "source": [
    "l2=[1,2,3]\n",
    "master_lst=[l1,l2,1,2,3]\n",
    "print(master_lst)"
   ]
  },
  {
   "cell_type": "code",
   "execution_count": 16,
   "metadata": {},
   "outputs": [
    {
     "name": "stdout",
     "output_type": "stream",
     "text": [
      "management and engineering of college vira satya kunwar \n",
      "\n",
      "1 2 3 \n",
      "\n"
     ]
    },
    {
     "ename": "TypeError",
     "evalue": "'int' object is not iterable",
     "output_type": "error",
     "traceback": [
      "\u001b[1;31m---------------------------------------------------------------------------\u001b[0m",
      "\u001b[1;31mTypeError\u001b[0m                                 Traceback (most recent call last)",
      "\u001b[1;32m<ipython-input-16-744474478687>\u001b[0m in \u001b[0;36m<module>\u001b[1;34m()\u001b[0m\n\u001b[0;32m      1\u001b[0m \u001b[1;32mfor\u001b[0m \u001b[0mi\u001b[0m \u001b[1;32min\u001b[0m \u001b[0mmaster_lst\u001b[0m\u001b[1;33m:\u001b[0m\u001b[1;33m\u001b[0m\u001b[0m\n\u001b[0;32m      2\u001b[0m     \u001b[1;31m#print(i)\u001b[0m\u001b[1;33m\u001b[0m\u001b[1;33m\u001b[0m\u001b[0m\n\u001b[1;32m----> 3\u001b[1;33m     \u001b[1;32mfor\u001b[0m \u001b[0mitem\u001b[0m \u001b[1;32min\u001b[0m \u001b[0mi\u001b[0m\u001b[1;33m:\u001b[0m\u001b[1;33m\u001b[0m\u001b[0m\n\u001b[0m\u001b[0;32m      4\u001b[0m         \u001b[0mprint\u001b[0m\u001b[1;33m(\u001b[0m\u001b[0mitem\u001b[0m\u001b[1;33m,\u001b[0m \u001b[0mend\u001b[0m\u001b[1;33m=\u001b[0m\u001b[1;34m\" \"\u001b[0m\u001b[1;33m)\u001b[0m\u001b[1;33m\u001b[0m\u001b[0m\n\u001b[0;32m      5\u001b[0m     \u001b[0mprint\u001b[0m\u001b[1;33m(\u001b[0m\u001b[1;34m\"\\n\"\u001b[0m\u001b[1;33m)\u001b[0m\u001b[1;33m\u001b[0m\u001b[0m\n",
      "\u001b[1;31mTypeError\u001b[0m: 'int' object is not iterable"
     ]
    }
   ],
   "source": [
    "for i in master_lst:\n",
    "    #print(i)\n",
    "    for item in i:\n",
    "        print(item, end=\" \")\n",
    "    print(\"\\n\")"
   ]
  },
  {
   "cell_type": "code",
   "execution_count": 54,
   "metadata": {},
   "outputs": [
    {
     "name": "stdout",
     "output_type": "stream",
     "text": [
      "[[1, 2, 3], [4, 5, 7], [9, 8, 7], [4, 3, 2]]\n",
      "1\n",
      "\n",
      "\n",
      "2\n",
      "\n",
      "\n",
      "3\n",
      "\n",
      "\n",
      "\n",
      "\n",
      "4\n",
      "\n",
      "\n",
      "5\n",
      "\n",
      "\n",
      "7\n",
      "\n",
      "\n",
      "\n",
      "\n",
      "9\n",
      "\n",
      "\n",
      "8\n",
      "\n",
      "\n",
      "7\n",
      "\n",
      "\n",
      "\n",
      "\n",
      "4\n",
      "\n",
      "\n",
      "3\n",
      "\n",
      "\n",
      "2\n",
      "\n",
      "\n",
      "\n",
      "\n"
     ]
    }
   ],
   "source": [
    "lst_1=[1,2,3]\n",
    "lst_2=[4,5,7]\n",
    "lst_3=[9,8,7]\n",
    "mstr_lst=[lst_1,lst_2,lst_3,[4,3,2]]\n",
    "print(mstr_lst)\n",
    "for item in mstr_lst:\n",
    "    for i in item:\n",
    "        print(i)\n",
    "        print(\"\\n\")\n",
    "    print(\"\\n\")\n",
    "#print(mstr_lst[0][0])"
   ]
  },
  {
   "cell_type": "code",
   "execution_count": 72,
   "metadata": {},
   "outputs": [
    {
     "name": "stdout",
     "output_type": "stream",
     "text": [
      "[[1, 2, 3], [4, 5, 7], [9, 8, 7], [4, 3, 2]]\n",
      "[1, 4, 9, 4]\n",
      "2\n",
      "5\n",
      "8\n",
      "3\n"
     ]
    }
   ],
   "source": [
    "#accessing columns in single line for loop\n",
    "print(mstr_lst)\n",
    "first_col=[row[0] for row in mstr_lst]\n",
    "print(first_col)\n",
    "for row in mstr_lst:\n",
    "    print(row[1])"
   ]
  },
  {
   "cell_type": "code",
   "execution_count": 73,
   "metadata": {},
   "outputs": [
    {
     "data": {
      "text/plain": [
       "2"
      ]
     },
     "execution_count": 73,
     "metadata": {},
     "output_type": "execute_result"
    }
   ],
   "source": [
    "#count function- counting particular element in the list\n",
    "first_col.count(4)"
   ]
  },
  {
   "cell_type": "code",
   "execution_count": 30,
   "metadata": {},
   "outputs": [
    {
     "name": "stdout",
     "output_type": "stream",
     "text": [
      "[[1, 2, 3], [4, 5, 7], [9, 8, 7], [4, 3, 2], 111, 111, 222, 222, 222, [333, 444]]\n",
      "[[1, 2, 3], [4, 5, 7], [9, 8, 7], [4, 3, 2], 111, 111, 222, 222, 222, [333, 444], 222, [333, 444]]\n"
     ]
    }
   ],
   "source": [
    "#append vs extend function\n",
    "print(mstr_lst)\n",
    "#append() is used to append single item or sub list of more than one item\n",
    "#but extend is used to append more than one item at a time\n",
    "mstr_lst.append(222)\n",
    "#mstr_lst.append(333,444)\n",
    "mstr_lst.append([333,444])\n",
    "print(mstr_lst)"
   ]
  },
  {
   "cell_type": "code",
   "execution_count": 76,
   "metadata": {},
   "outputs": [
    {
     "name": "stdout",
     "output_type": "stream",
     "text": [
      "[[1, 2, 3], [4, 5, 7], [9, 8, 7], [4, 3, 2], 666, 777, 666, 777, 666, 777]\n"
     ]
    }
   ],
   "source": [
    "#while extend\n",
    "mstr_lst.extend([666,777])\n",
    "print(mstr_lst)"
   ]
  },
  {
   "cell_type": "code",
   "execution_count": 77,
   "metadata": {},
   "outputs": [
    {
     "data": {
      "text/plain": [
       "4"
      ]
     },
     "execution_count": 77,
     "metadata": {},
     "output_type": "execute_result"
    }
   ],
   "source": [
    "#index function- to find the index of particular element\n",
    "mstr_lst.index(666)"
   ]
  },
  {
   "cell_type": "code",
   "execution_count": 83,
   "metadata": {},
   "outputs": [
    {
     "name": "stdout",
     "output_type": "stream",
     "text": [
      "[111, 'aaa', 111, 111, 111, [1, 2, 3], [4, 5, 7], [9, 8, 7], [4, 3, 2], 666, 777, 666, 777, 666, 777]\n",
      "['aaa', 'aaa', 111, 111, 111, [1, 2, 3], [4, 5, 7], [9, 8, 7], [4, 3, 2], 666, 777, 666, 777, 666, 777]\n"
     ]
    }
   ],
   "source": [
    "#insert function-to insert value on a particular index\n",
    "mstr_lst.insert(0, 111)\n",
    "print(mstr_lst)\n",
    "mstr_lst[0]='aaa'\n",
    "print (mstr_lst)"
   ]
  },
  {
   "cell_type": "code",
   "execution_count": 92,
   "metadata": {},
   "outputs": [
    {
     "name": "stdout",
     "output_type": "stream",
     "text": [
      "['aaa', 'aaa', 111, 111, 111, [1, 2, 3]]\n"
     ]
    }
   ],
   "source": [
    "#pop function-it will popped the last element from list\n",
    "mstr_lst.pop()\n",
    "print(mstr_lst)\n"
   ]
  },
  {
   "cell_type": "code",
   "execution_count": 95,
   "metadata": {},
   "outputs": [
    {
     "name": "stdout",
     "output_type": "stream",
     "text": [
      "['aaa', 111, 111, 111, [1, 2, 3]]\n"
     ]
    }
   ],
   "source": [
    "#remove fun- to remove a particular element\n",
    "mstr_lst.remove('aaa')\n",
    "print(mstr_lst)"
   ]
  },
  {
   "cell_type": "code",
   "execution_count": 97,
   "metadata": {},
   "outputs": [
    {
     "name": "stdout",
     "output_type": "stream",
     "text": [
      "[4, 3, 2, 1]\n",
      "[1, 2, 3, 4]\n"
     ]
    }
   ],
   "source": [
    "#reverse\n",
    "mstr_lst=[1,2,3,4]\n",
    "mstr_lst.reverse()\n",
    "print(mstr_lst)\n",
    "mstr_lst.sort()\n",
    "print(mstr_lst)"
   ]
  }
 ],
 "metadata": {
  "kernelspec": {
   "display_name": "Python 3",
   "language": "python",
   "name": "python3"
  },
  "language_info": {
   "codemirror_mode": {
    "name": "ipython",
    "version": 3
   },
   "file_extension": ".py",
   "mimetype": "text/x-python",
   "name": "python",
   "nbconvert_exporter": "python",
   "pygments_lexer": "ipython3",
   "version": "3.7.0"
  }
 },
 "nbformat": 4,
 "nbformat_minor": 2
}

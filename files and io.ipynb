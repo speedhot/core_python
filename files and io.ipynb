{
 "cells": [
  {
   "cell_type": "markdown",
   "metadata": {},
   "source": [
    "# files"
   ]
  },
  {
   "cell_type": "code",
   "execution_count": 5,
   "metadata": {},
   "outputs": [
    {
     "name": "stdout",
     "output_type": "stream",
     "text": [
      "Overwriting text.txt\n"
     ]
    }
   ],
   "source": [
    "%%writefile text.txt   \n",
    "i am here baby\n",
    "\n",
    "#first line is a command to write a existing file or will create new and the below text in it\n",
    "# The above said way is the command line way to write file but we can do the file io operation in a below given way"
   ]
  },
  {
   "cell_type": "code",
   "execution_count": 9,
   "metadata": {},
   "outputs": [
    {
     "name": "stdout",
     "output_type": "stream",
     "text": [
      "<_io.TextIOWrapper name='text.txt' mode='r' encoding='cp1252'>\n"
     ]
    },
    {
     "data": {
      "text/plain": [
       "'i am here baby\\n\\n\\n# The above said way is the command line way to write file but we can do the file io operation in a below given way'"
      ]
     },
     "execution_count": 9,
     "metadata": {},
     "output_type": "execute_result"
    }
   ],
   "source": [
    "#open a text.txt(created above )\n",
    "f=open('text.txt')\n",
    "print(f)  # will return <_io.TextIOWrapper name='text.txt' mode='r' encoding='cp1252'> specification of opened file\n",
    "f.read()   # to read a opened file"
   ]
  },
  {
   "cell_type": "markdown",
   "metadata": {},
   "source": [
    "## file operating modes\n",
    "thereare many file operating modes to open and writing a file,like-r,rb,r+,rb+,w,wb,w+wb+, etc\n",
    "we can take look on all- those are simple to use"
   ]
  },
  {
   "cell_type": "code",
   "execution_count": 15,
   "metadata": {},
   "outputs": [
    {
     "data": {
      "text/plain": [
       "'r'"
      ]
     },
     "execution_count": 15,
     "metadata": {},
     "output_type": "execute_result"
    }
   ],
   "source": [
    "# many functions\n",
    "f.mode   #will return the mode"
   ]
  },
  {
   "cell_type": "code",
   "execution_count": 18,
   "metadata": {},
   "outputs": [
    {
     "data": {
      "text/plain": [
       "False"
      ]
     },
     "execution_count": 18,
     "metadata": {},
     "output_type": "execute_result"
    }
   ],
   "source": [
    "f.closed #will return true if file is closed"
   ]
  },
  {
   "cell_type": "code",
   "execution_count": 19,
   "metadata": {},
   "outputs": [
    {
     "data": {
      "text/plain": [
       "'text.txt'"
      ]
     },
     "execution_count": 19,
     "metadata": {},
     "output_type": "execute_result"
    }
   ],
   "source": [
    "f.name #to know name of opened file"
   ]
  },
  {
   "cell_type": "code",
   "execution_count": 22,
   "metadata": {},
   "outputs": [
    {
     "data": {
      "text/plain": [
       "True"
      ]
     },
     "execution_count": 22,
     "metadata": {},
     "output_type": "execute_result"
    }
   ],
   "source": [
    "f.close() #to close a opened file\n",
    "f.closed"
   ]
  },
  {
   "cell_type": "code",
   "execution_count": 36,
   "metadata": {},
   "outputs": [
    {
     "name": "stdout",
     "output_type": "stream",
     "text": [
      "<_io.TextIOWrapper name='text.txt' mode='w+' encoding='cp1252'>\n"
     ]
    }
   ],
   "source": [
    "f=open('text.txt','w+')\n",
    "str=\"\\nPutting new text in my file\\n\"\n",
    "f.write(str)\n",
    "print(f)"
   ]
  },
  {
   "cell_type": "code",
   "execution_count": 51,
   "metadata": {},
   "outputs": [
    {
     "data": {
      "text/plain": [
       "'\\nPutting new text in my file\\n'"
      ]
     },
     "execution_count": 51,
     "metadata": {},
     "output_type": "execute_result"
    }
   ],
   "source": [
    "f=open('text.txt','r+')\n",
    "f.read() #will give blank as already be read whole content \n",
    "#now need to point cursor again at the begning"
   ]
  },
  {
   "cell_type": "code",
   "execution_count": 54,
   "metadata": {},
   "outputs": [
    {
     "data": {
      "text/plain": [
       "['\\n', 'Putting new text in my file\\n']"
      ]
     },
     "execution_count": 54,
     "metadata": {},
     "output_type": "execute_result"
    }
   ],
   "source": [
    "f.seek(0)  #to put pointer into begning\n",
    "f.readlines()\n",
    "#"
   ]
  },
  {
   "cell_type": "code",
   "execution_count": 57,
   "metadata": {},
   "outputs": [
    {
     "data": {
      "text/plain": [
       "True"
      ]
     },
     "execution_count": 57,
     "metadata": {},
     "output_type": "execute_result"
    }
   ],
   "source": [
    "f.close()\n",
    "f.closed"
   ]
  },
  {
   "cell_type": "code",
   "execution_count": 59,
   "metadata": {},
   "outputs": [
    {
     "ename": "PermissionError",
     "evalue": "[WinError 32] The process cannot access the file because it is being used by another process: 'text.txt' -> '1.txt'",
     "output_type": "error",
     "traceback": [
      "\u001b[1;31m---------------------------------------------------------------------------\u001b[0m",
      "\u001b[1;31mPermissionError\u001b[0m                           Traceback (most recent call last)",
      "\u001b[1;32m<ipython-input-59-a9a50b0a1f4e>\u001b[0m in \u001b[0;36m<module>\u001b[1;34m()\u001b[0m\n\u001b[0;32m      1\u001b[0m \u001b[1;32mimport\u001b[0m \u001b[0mos\u001b[0m\u001b[1;33m\u001b[0m\u001b[0m\n\u001b[1;32m----> 2\u001b[1;33m \u001b[0mos\u001b[0m\u001b[1;33m.\u001b[0m\u001b[0mrename\u001b[0m\u001b[1;33m(\u001b[0m\u001b[1;34m\"text.txt\"\u001b[0m\u001b[1;33m,\u001b[0m\u001b[1;34m\"1.txt\"\u001b[0m\u001b[1;33m)\u001b[0m\u001b[1;33m\u001b[0m\u001b[0m\n\u001b[0m",
      "\u001b[1;31mPermissionError\u001b[0m: [WinError 32] The process cannot access the file because it is being used by another process: 'text.txt' -> '1.txt'"
     ]
    }
   ],
   "source": [
    "import os\n",
    "os.rename(\"text.txt\",\"1.txt\")"
   ]
  },
  {
   "cell_type": "code",
   "execution_count": null,
   "metadata": {},
   "outputs": [],
   "source": []
  },
  {
   "cell_type": "markdown",
   "metadata": {},
   "source": [
    "# similarly other operations on file and directory can be performed"
   ]
  },
  {
   "cell_type": "markdown",
   "metadata": {},
   "source": [
    "# iterating through the file"
   ]
  },
  {
   "cell_type": "code",
   "execution_count": 63,
   "metadata": {},
   "outputs": [
    {
     "name": "stdout",
     "output_type": "stream",
     "text": [
      "Overwriting text.txt\n"
     ]
    }
   ],
   "source": [
    "%%writefile text.txt\n",
    "i am here\n",
    "asdsad\n",
    "asddsad\n",
    "dsad"
   ]
  },
  {
   "cell_type": "code",
   "execution_count": 70,
   "metadata": {},
   "outputs": [
    {
     "name": "stdout",
     "output_type": "stream",
     "text": [
      "i am here\n",
      "\n",
      "asdsad\n",
      "\n",
      "asddsad\n",
      "\n",
      "dsad\n"
     ]
    }
   ],
   "source": [
    "#reading lines using for loop\n",
    "f=open('text.txt','r+')\n",
    "for lines in f:\n",
    "    print(lines)\n",
    "f.close()"
   ]
  },
  {
   "cell_type": "code",
   "execution_count": 74,
   "metadata": {},
   "outputs": [
    {
     "name": "stdout",
     "output_type": "stream",
     "text": [
      "i am here\n",
      "\n",
      "asdsad\n",
      "\n",
      "asddsad\n",
      "\n",
      "dsad\n"
     ]
    }
   ],
   "source": [
    "#or in a more shorter way\n",
    "for line in open('text.txt'):\n",
    "    print(line)"
   ]
  },
  {
   "cell_type": "markdown",
   "metadata": {},
   "source": [
    "## StringIO"
   ]
  },
  {
   "cell_type": "code",
   "execution_count": 4,
   "metadata": {},
   "outputs": [
    {
     "name": "stdout",
     "output_type": "stream",
     "text": [
      "<_io.StringIO object at 0x0000000004F6E8B8>\n",
      "hey now i am not using io to write to file or hard disk but i am using memory buffer just to write my file\n"
     ]
    }
   ],
   "source": [
    "from io import StringIO\n",
    "msg=\"hey now i am not using io to write to file or hard disk but i am using memory buffer just to write my file\"\n",
    "f=StringIO(msg)   # it is similar to the write operation in file but now we are not writing to hard disk but to the memory buffer\n",
    "print(f)\n",
    "for line in f:\n",
    "    print(line)\n",
    "    "
   ]
  },
  {
   "cell_type": "code",
   "execution_count": 9,
   "metadata": {},
   "outputs": [
    {
     "data": {
      "text/plain": [
       "36"
      ]
     },
     "execution_count": 9,
     "metadata": {},
     "output_type": "execute_result"
    }
   ],
   "source": [
    "f.seek(0)   #same as before during files IO\n",
    "f.read()     #same as file IO\n",
    "f.write(\"\\n new thing to write to the StringIO\")\n"
   ]
  },
  {
   "cell_type": "code",
   "execution_count": 12,
   "metadata": {},
   "outputs": [
    {
     "data": {
      "text/plain": [
       "'hey now i am not using io to write to file or hard disk but i am using memory buffer just to write my file\\n new thing to write to the StringIO\\n new thing to write to the StringIO\\n new thing to write to the StringIO'"
      ]
     },
     "execution_count": 12,
     "metadata": {},
     "output_type": "execute_result"
    }
   ],
   "source": [
    "f.seek(0)\n",
    "f.read()"
   ]
  },
  {
   "cell_type": "markdown",
   "metadata": {},
   "source": [
    "# TO Do"
   ]
  },
  {
   "cell_type": "markdown",
   "metadata": {},
   "source": [
    "## Create a tuple of multiple data types"
   ]
  },
  {
   "cell_type": "code",
   "execution_count": 25,
   "metadata": {},
   "outputs": [
    {
     "name": "stdout",
     "output_type": "stream",
     "text": [
      "Enter size of tuple1\n",
      "Enter New value to add to tuple:ture\n",
      "Created Tuple: ('ture',)\n"
     ]
    }
   ],
   "source": [
    "#solution:creation of tuple with multiple data types\n",
    "t=()\n",
    "l=[]\n",
    "n=int(input('Enter size of tuple'))\n",
    "for item in range(n):\n",
    "    in_put=input('Enter New value to add to tuple:')\n",
    "    l.append(in_put)\n",
    "t=tuple(l)\n",
    "print(\"Created Tuple:\",t)"
   ]
  },
  {
   "cell_type": "markdown",
   "metadata": {},
   "source": [
    "## Question\n",
    "## Create a list of length 3 and Create a list of length 4, For each element in the first list,\n",
    "## Display the corresponding index element of the second list"
   ]
  },
  {
   "cell_type": "code",
   "execution_count": 42,
   "metadata": {},
   "outputs": [
    {
     "name": "stdout",
     "output_type": "stream",
     "text": [
      "Enter element of first list:1\n",
      "Enter element of first list:2\n",
      "Enter element of first list:3\n",
      "Enter element of Second list:4\n",
      "Enter element of Second list:5\n",
      "Enter element of Second list:6\n",
      "Enter element of Second list:7\n",
      "First List: ['1', '2', '3']\n",
      "First List: ['4', '5', '6', '7']\n",
      "1 4\n",
      "2 5\n",
      "3 6\n",
      "<generator object <genexpr> at 0x000000000506AC00>\n"
     ]
    }
   ],
   "source": [
    "#solution\n",
    "l1=[]\n",
    "l2=[]\n",
    "for i in range(3):\n",
    "    in_put=input(\"Enter element of first list:\")\n",
    "    l1.append(in_put)\n",
    "for j in range(4):\n",
    "    in_put=input(\"Enter element of Second list:\")\n",
    "    l2.append(in_put)\n",
    "\n",
    "print(\"First List:\",l1)\n",
    "print(\"First List:\",l2)\n",
    "\n",
    "#printing the corresponding element of Second list #mannual method using for loop\n",
    "for item in range(len(l1)):\n",
    "    \n",
    "        print(l1[item], l2[item])\n",
    "        \n",
    "        \n",
    "        \n",
    "\n",
    "        \n",
    "    "
   ]
  },
  {
   "cell_type": "code",
   "execution_count": 44,
   "metadata": {},
   "outputs": [
    {
     "name": "stdout",
     "output_type": "stream",
     "text": [
      "1 4\n",
      "2 5\n",
      "3 6\n"
     ]
    }
   ],
   "source": [
    "#solution 2: using zip function\n",
    "\n",
    "for x,y in zip(l1,l2):\n",
    "       print(x,y)"
   ]
  },
  {
   "cell_type": "code",
   "execution_count": 46,
   "metadata": {},
   "outputs": [
    {
     "name": "stdout",
     "output_type": "stream",
     "text": [
      "[['1', '4'], ['1', '5'], ['1', '6'], ['1', '7'], ['2', '4'], ['2', '5'], ['2', '6'], ['2', '7'], ['3', '4'], ['3', '5'], ['3', '6'], ['3', '7']]\n"
     ]
    }
   ],
   "source": [
    "#solution 3: by more list comprehension\n",
    "print([[x, y] for x in l1 for y in l2])"
   ]
  },
  {
   "cell_type": "markdown",
   "metadata": {},
   "source": [
    "## Question: write a program for breaking and exiting out of loop"
   ]
  },
  {
   "cell_type": "code",
   "execution_count": 51,
   "metadata": {},
   "outputs": [
    {
     "name": "stdout",
     "output_type": "stream",
     "text": [
      "Do it hard! its 1 only\n",
      "Do it hard! its 2 only\n",
      "Do it hard! its 3 only\n",
      "you have done enough: its 4 here stop!\n"
     ]
    }
   ],
   "source": [
    "#sloution 1: can be done in manny ways\n",
    "l1=[1,2,3,4,5,6]\n",
    "\n",
    "for i in l1:\n",
    "    if i==4:\n",
    "        print(\"you have done enough: its %d here stop!\" %(i))\n",
    "        break\n",
    "    else:\n",
    "        print(\"Do it hard! its %d only\" %(i))\n"
   ]
  },
  {
   "cell_type": "code",
   "execution_count": 81,
   "metadata": {},
   "outputs": [
    {
     "name": "stdout",
     "output_type": "stream",
     "text": [
      "Enter No. for which you want to calculate factorial:5\n",
      "120\n"
     ]
    }
   ],
   "source": [
    "#calculation of factorial using recursion\n",
    "def fact(number):\n",
    "    if not isinstance(number, int):\n",
    "        raise TypeError(\"sry! Enter integer no. plz\") #explicitly handling of errors\n",
    "    elif number<=0:\n",
    "        raise ValueError(\" Must be a positive and non-zero integer!\")\n",
    "    \n",
    "    def cal_fact(number):\n",
    "        if number == 1:\n",
    "            return 1\n",
    "        else:\n",
    "            return number*cal_fact(number-1)\n",
    "    return(cal_fact(number))\n",
    "n=int(input(\"Enter No. for which you want to calculate factorial:\"))\n",
    "print(fact(n))"
   ]
  },
  {
   "cell_type": "code",
   "execution_count": 82,
   "metadata": {},
   "outputs": [
    {
     "name": "stdout",
     "output_type": "stream",
     "text": [
      "Enter No. for which you want to calculate factorial:2\n",
      "<class 'int'>\n",
      "2\n"
     ]
    }
   ],
   "source": [
    "def factorial(number):\n",
    "# Error handling\n",
    "    print(type(number))\n",
    "    if not isinstance(number, int):\n",
    "        raise TypeError(\"Sorry. 'number' must be an integer.\")\n",
    "    if not number >= 0:\n",
    "        raise ValueError(\"Sorry. 'number' must be zero or positive.\")\n",
    "    def inner_factorial(number):\n",
    "        if number <= 1:\n",
    "            return 1\n",
    "        return number*inner_factorial(number-1)\n",
    "    return inner_factorial(number)\n",
    "# Call the outer function.\n",
    "n=int(input(\"Enter No. for which you want to calculate factorial:\"))\n",
    "print(factorial(n))"
   ]
  },
  {
   "cell_type": "code",
   "execution_count": 85,
   "metadata": {},
   "outputs": [
    {
     "name": "stdout",
     "output_type": "stream",
     "text": [
      "{'a': 1, 'b': 2, 'c': 3, 'd': 4}\n"
     ]
    }
   ],
   "source": [
    "#Dict Comprehension: combining two dictionaries in python 3.5 or new \n",
    "d1={'a':1, 'b':2}\n",
    "d2={'c':3,'d':4}\n",
    "\n",
    "d3={**d1, **d2}\n",
    "print(d3)"
   ]
  }
 ],
 "metadata": {
  "kernelspec": {
   "display_name": "Python 3",
   "language": "python",
   "name": "python3"
  },
  "language_info": {
   "codemirror_mode": {
    "name": "ipython",
    "version": 3
   },
   "file_extension": ".py",
   "mimetype": "text/x-python",
   "name": "python",
   "nbconvert_exporter": "python",
   "pygments_lexer": "ipython3",
   "version": "3.7.0"
  }
 },
 "nbformat": 4,
 "nbformat_minor": 2
}

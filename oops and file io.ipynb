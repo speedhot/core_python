{
 "cells": [
  {
   "cell_type": "markdown",
   "metadata": {},
   "source": [
    "## OOPs"
   ]
  },
  {
   "cell_type": "code",
   "execution_count": 3,
   "metadata": {},
   "outputs": [
    {
     "data": {
      "text/plain": [
       "'#opps\\nClasses\\nObjects\\nData Members\\nMember Functions\\nInheritance\\nencapsulation\\nPolymorphysm'"
      ]
     },
     "execution_count": 3,
     "metadata": {},
     "output_type": "execute_result"
    }
   ],
   "source": [
    "\"\"\"#opps\n",
    "Classes\n",
    "Objects\n",
    "Data Members\n",
    "Member Functions\n",
    "Inheritance\n",
    "encapsulation\n",
    "Polymorphysm\n",
    "    overlaoding\n",
    "    overriding\n",
    "    \"\"\""
   ]
  },
  {
   "cell_type": "markdown",
   "metadata": {},
   "source": [
    "## Defining class"
   ]
  },
  {
   "cell_type": "code",
   "execution_count": 5,
   "metadata": {},
   "outputs": [
    {
     "ename": "SyntaxError",
     "evalue": "invalid syntax (<ipython-input-5-9372e42da7f9>, line 12)",
     "output_type": "error",
     "traceback": [
      "\u001b[1;36m  File \u001b[1;32m\"<ipython-input-5-9372e42da7f9>\"\u001b[1;36m, line \u001b[1;32m12\u001b[0m\n\u001b[1;33m    obj_name=class_name(arg list)\u001b[0m\n\u001b[1;37m                               ^\u001b[0m\n\u001b[1;31mSyntaxError\u001b[0m\u001b[1;31m:\u001b[0m invalid syntax\n"
     ]
    }
   ],
   "source": [
    "#creating class\n",
    "#first\n",
    "class class_name:   #the class keyword <class_name>:\n",
    "    pass\n",
    "#second\n",
    "class class_name(object):\n",
    "    pass\n",
    "\n",
    "#creating object\n",
    "obj_name=class_name()\n",
    "#or with argument\n",
    "obj_name=class_name(arg list)\n",
    "\n",
    "#creating constructor in side class explicitly\n",
    "def __init__(self)\n",
    "#otherwise implicitly compiler called to given function itself\n",
    "__init__(self)\n",
    "\n",
    "\n",
    "#creating destructor in side class explicitly\n",
    "__del__()"
   ]
  },
  {
   "cell_type": "code",
   "execution_count": 23,
   "metadata": {},
   "outputs": [
    {
     "name": "stdout",
     "output_type": "stream",
     "text": [
      "enter name:a\n",
      "enter course:v\n",
      "a v\n",
      "new school\n",
      "new school\n"
     ]
    }
   ],
   "source": [
    "class student:\n",
    "    school='new school'\n",
    "    def __init__(self,name,course):\n",
    "        self.name=name\n",
    "        self.course=course\n",
    "        print(name,course)\n",
    "    def display(self):\n",
    "        print(self.school)\n",
    "\n",
    "name=input('enter name:')\n",
    "course=input('enter course:')\n",
    "stu1=student(name, course)\n",
    "print(stu1.school)\n",
    "stu1.display()"
   ]
  },
  {
   "cell_type": "code",
   "execution_count": 1,
   "metadata": {},
   "outputs": [
    {
     "name": "stdout",
     "output_type": "stream",
     "text": [
      "enter name:a\n",
      "enter location:bangalore\n",
      "enter age:23\n",
      "enter company Name:IBM\n",
      "a is an employee of IBM. His age is 23 and Location is bangalore\n",
      "dict_keys(['name', 'location', 'age', 'company'])\n"
     ]
    }
   ],
   "source": [
    "#Next with class\n",
    "class employee:\n",
    "    company='' #class variable satatic kind of\n",
    "    def __init__(self,name, location,age,company): #contructer\n",
    "        self.name=name\n",
    "        self.location=location\n",
    "        self.age=age\n",
    "        self.company=company\n",
    "    def __str__(self):  #this is again special funtion in python and used when we want object to be printed in strings\n",
    "        return (\"%s is an employee of %s. His age is %d and Location is %s\") %(self.name, self.company,self.age,self.location)\n",
    "    def display(self): #user created member function\n",
    "        return self.company\n",
    "        \n",
    "ename=input('enter name:')\n",
    "elocation=input('enter location:')\n",
    "eage=int(input('enter age:'))\n",
    "ecompany=input('enter company Name:')\n",
    "amit=employee(ename,elocation,eage,ecompany) #creation of of named amit and we provided four agruments to the contructor\n",
    "s=amit.display()  #calling user defined function using object\n",
    "print(amit) #printing an object and only possible with __str__ bydefault method\n",
    "print(amit.__dict__.keys()) #if we want to take all arguments of a an object in a list... we need to use __dict__"
   ]
  },
  {
   "cell_type": "markdown",
   "metadata": {},
   "source": [
    "## Protecting data or abstraction\n",
    "in python there is no mechanism of making members provate but we put _var (_) in front of variable to amke it specific towrds private"
   ]
  },
  {
   "cell_type": "code",
   "execution_count": 4,
   "metadata": {},
   "outputs": [
    {
     "name": "stdout",
     "output_type": "stream",
     "text": [
      "ram\n",
      "ram is the employee name\n"
     ]
    }
   ],
   "source": [
    "#exmaple : making a member to private just to denote ---or just for suggestion not to access directly\n",
    "class employee_private:\n",
    "    def __init__(self, name):\n",
    "        self._name=name     #now here name is declared like _name ---just to show it is private \n",
    "    def __str__(self):\n",
    "        return \"%s is the employee name\" % (self._name)\n",
    "ram=employee_private('ram')\n",
    "print(ram._name) #even we can access  it but python suggests not to access it due to private notation\n",
    "print(ram)"
   ]
  },
  {
   "cell_type": "code",
   "execution_count": 27,
   "metadata": {},
   "outputs": [
    {
     "name": "stdout",
     "output_type": "stream",
     "text": [
      "ram\n",
      "None\n",
      "Accessing strictly private member using _className in between: ram\n",
      "ram is the employee name\n"
     ]
    }
   ],
   "source": [
    "#exmaple : making a member forcefully private by putting double underscore in front of member variable\n",
    "class employee1:\n",
    "    def __init__(self, name):\n",
    "        self.__name=name     #__name is forcefully private, can be accessed by member function only \n",
    "    def __str__(self):\n",
    "        return \"%s is the employee name\" % (self.__name)\n",
    "    def who(self):\n",
    "        print(self.__name)\n",
    "ram=employee1('ram')\n",
    "#print(ram.__name) #being forcefully private -now even object cant access it directly outside class- on try will show errror\n",
    "print(ram.who()) #even cant access by member function also outside the class #showing None to be disscuss\n",
    "print(\"Accessing strictly private member using _className in between:\",ram._employee1__name) # we only can access it by the class name having one under score before it as shown\n",
    "\n",
    "print(ram)"
   ]
  },
  {
   "cell_type": "markdown",
   "metadata": {},
   "source": [
    "## Private Methods\n",
    "we'll add two methods: who() and __who() methods:"
   ]
  },
  {
   "cell_type": "code",
   "execution_count": 29,
   "metadata": {},
   "outputs": [
    {
     "name": "stdout",
     "output_type": "stream",
     "text": [
      "ram\n",
      "this is public method\n",
      "this is private method\n",
      "None\n",
      "Accessing strictly private member using _className in between: ram\n",
      "this is private method\n",
      "ram is the employee name\n"
     ]
    }
   ],
   "source": [
    "#exmaple : making a member forcefully private by putting double underscore in front of member variable\n",
    "class demo:\n",
    "    def __init__(self, name):\n",
    "        self.__name=name     #__name is forcefully private, can be accessed by member function only \n",
    "    def __str__(self):\n",
    "        return \"%s is the employee name\" % (self.__name)\n",
    "    def who(self):\n",
    "        print(self.__name)\n",
    "        print('this is public method')\n",
    "        self.__who()\n",
    "    def __who(self):      # private member function of the class\n",
    "        print(\"this is private method\")\n",
    "ram=demo('ram')\n",
    "#print(ram.__name) #being forcefully private -now even object cant access it directly outside class- on try will show errror\n",
    "print(ram.who()) #even cant access by member function also outside the class #showing None to be disscuss\n",
    "print(\"Accessing strictly private member using _className in between:\",ram._demo__name) # we only can access it by the class name having one under score before it as shown\n",
    "ram._demo__who()   #calling by _class  name in between\n",
    "print(ram)"
   ]
  },
  {
   "cell_type": "markdown",
   "metadata": {},
   "source": [
    "# Inheritance"
   ]
  },
  {
   "cell_type": "code",
   "execution_count": 1,
   "metadata": {},
   "outputs": [
    {
     "name": "stdout",
     "output_type": "stream",
     "text": [
      "First name aman and last name ram\n"
     ]
    }
   ],
   "source": [
    "#creating inheritance demo\n",
    "class A: #fisrt class\n",
    "    name='aman' #class attribute\n",
    "   \n",
    "class B(A):\n",
    "    surename=''\n",
    "    def __init__(self,b):\n",
    "        self.surename=b\n",
    "    def __str__(self): \n",
    "        return \"First name %s and last name %s\" % (self.name,self.surename) #accessing class attribute here due to inheritance\n",
    "ram=B('ram')\n",
    "print(ram)"
   ]
  },
  {
   "cell_type": "code",
   "execution_count": 3,
   "metadata": {},
   "outputs": [
    {
     "name": "stdout",
     "output_type": "stream",
     "text": [
      "Enter side 1 : 2\n",
      "Enter side 2 : 3\n",
      "Enter side 3 : 4\n",
      "Side 1 is 2.0\n",
      "Side 2 is 3.0\n",
      "Side 3 is 4.0\n",
      "The area of the triangle is 2.90\n"
     ]
    }
   ],
   "source": [
    "#Example Demonstrating Inheritance\n",
    "class Polygon:\n",
    "    def __init__(self, no_of_sides):\n",
    "        self.n = no_of_sides\n",
    "        self.sides = [0 for i in range(no_of_sides)]\n",
    "    def inputSides(self):\n",
    "        self.sides = [float(input(\"Enter side \"+str(i+1)+\" : \")) for i in range(self.n)]\n",
    "    def dispSides(self):\n",
    "        for i in range(self.n):\n",
    "            print(\"Side\",i+1,\"is\",self.sides[i])\n",
    "            \n",
    "class Triangle(Polygon):\n",
    "    def __init__(self): #construcot overriding ----\n",
    "        Polygon.__init__(self,3) #passing argument to the base class constructor\n",
    "    def findArea(self):\n",
    "        a, b, c = self.sides\n",
    "        # calculate the semi-perimeter\n",
    "        s = (a + b + c) / 2\n",
    "        area = (s*(s-a)*(s-b)*(s-c)) ** 0.5\n",
    "        print('The area of the triangle is %0.2f' %area)\n",
    "t=Triangle()\n",
    "t.inputSides()\n",
    "t.dispSides()\n",
    "t.findArea()"
   ]
  },
  {
   "cell_type": "markdown",
   "metadata": {},
   "source": [
    "## Method Overriding in Python"
   ]
  },
  {
   "cell_type": "code",
   "execution_count": 5,
   "metadata": {},
   "outputs": [
    {
     "name": "stdout",
     "output_type": "stream",
     "text": [
      "Enter side 1 : 2.56\n",
      "Enter side 2 : 3.456\n",
      "Enter side 3 : 3\n",
      "Side 1 is 2.56\n",
      "Side 2 is 3.456\n",
      "Side 3 is 3.0\n",
      "The area of the triangle is 3.73\n"
     ]
    }
   ],
   "source": [
    "#Example Demonstrating Inheritance: use of super()\n",
    "class Polygon:\n",
    "    def __init__(self, no_of_sides):\n",
    "        self.n = no_of_sides\n",
    "        self.sides = [0 for i in range(no_of_sides)]\n",
    "    def inputSides(self):\n",
    "        self.sides = [float(input(\"Enter side \"+str(i+1)+\" : \")) for i in range(self.n)]\n",
    "    def dispSides(self):\n",
    "        for i in range(self.n):\n",
    "            print(\"Side\",i+1,\"is\",self.sides[i])\n",
    "            \n",
    "class Triangle(Polygon):\n",
    "    def __init__(self):     #method overriding\n",
    "        super().__init__(3) #passing argument using super() to the base class constructor\n",
    "    def findArea(self):\n",
    "        a, b, c = self.sides\n",
    "        # calculate the semi-perimeter\n",
    "        s = (a + b + c) / 2\n",
    "        area = (s*(s-a)*(s-b)*(s-c)) ** 0.5\n",
    "        print('The area of the triangle is %0.2f' %area)\n",
    "t=Triangle()\n",
    "t.inputSides()\n",
    "t.dispSides()\n",
    "t.findArea()"
   ]
  },
  {
   "cell_type": "code",
   "execution_count": 13,
   "metadata": {},
   "outputs": [
    {
     "name": "stdout",
     "output_type": "stream",
     "text": [
      "True\n",
      "True\n",
      "True\n",
      "False\n"
     ]
    }
   ],
   "source": [
    "#isinstance() and issubclass() function\n",
    "print(isinstance(t,Triangle)) #will return true as t is instance of Trangle\n",
    "print(isinstance(t,Polygon))         #will return true as t is instance of Polygon due to inheritance\n",
    "print(isinstance(t,object))  #will again return as in oops all obejects would br instance of object class\n",
    "print(isinstance(t, int))    #will be false as not happened"
   ]
  },
  {
   "cell_type": "markdown",
   "metadata": {},
   "source": [
    "## Multiple Inheritance and use of super()\n",
    "\n"
   ]
  },
  {
   "cell_type": "code",
   "execution_count": 15,
   "metadata": {},
   "outputs": [
    {
     "name": "stdout",
     "output_type": "stream",
     "text": [
      "Dog has 4 legs.\n",
      "Dog can't swim.\n",
      "Dog can't fly.\n",
      "Dog is a warm-blooded animal.\n",
      "Dog is an animal.\n",
      "\n",
      "Bat can't swim.\n",
      "Bat is a warm-blooded animal.\n",
      "Bat is an animal.\n"
     ]
    }
   ],
   "source": [
    "class Animal:\n",
    "      def __init__(self, animalName):\n",
    "        print(animalName, 'is an animal.');\n",
    "class Mammal(Animal):\n",
    "      def __init__(self, mammalName):\n",
    "        print(mammalName, 'is a warm-blooded animal.')\n",
    "        super().__init__(mammalName)\n",
    "    \n",
    "class NonWingedMammal(Mammal):\n",
    "      def __init__(self, NonWingedMammalName):\n",
    "        print(NonWingedMammalName, \"can't fly.\")\n",
    "        super().__init__(NonWingedMammalName)\n",
    "class NonMarineMammal(Mammal):\n",
    "      def __init__(self, NonMarineMammalName):\n",
    "        print(NonMarineMammalName, \"can't swim.\")\n",
    "        super().__init__(NonMarineMammalName)\n",
    "class Dog(NonMarineMammal, NonWingedMammal):\n",
    "      def __init__(self):\n",
    "        print('Dog has 4 legs.');\n",
    "        super().__init__('Dog')\n",
    "    \n",
    "d = Dog()\n",
    "print('')\n",
    "bat = NonMarineMammal('Bat') \n"
   ]
  },
  {
   "cell_type": "markdown",
   "metadata": {},
   "source": [
    "## encapsulation-composition"
   ]
  },
  {
   "cell_type": "code",
   "execution_count": 18,
   "metadata": {},
   "outputs": [
    {
     "name": "stdout",
     "output_type": "stream",
     "text": [
      "All info from C : Name from A: Swift\n",
      "Company Name from B: Suzuki\n",
      "Name from C: 1000000\n",
      "\n"
     ]
    }
   ],
   "source": [
    "class A:\n",
    "    def __init__(self, name):\n",
    "        self.name=name\n",
    "    def __str__(self):\n",
    "        return \"Name from A: %s\" % (self.name)\n",
    "class B:\n",
    "    def __init__(self, make):\n",
    "        self.company=make\n",
    "    def __str__(self):\n",
    "        return \"Company Name from B: %s\" % (self.company)\n",
    "class C:\n",
    "    def __init__(self, cost):\n",
    "        self.cost=cost\n",
    "    def __str__(self):\n",
    "        return \"Name from C: %s\" % (self.cost)\n",
    "class Car:\n",
    "    def __init__(self, name, make, cost):\n",
    "        self.name=name\n",
    "        self.company=make\n",
    "        self.cost=cost\n",
    "    def __str__(self):\n",
    "        return \"All info from C : %s\\n%s\\n%s\\n\" % (self.name, self.company, self.cost)\n",
    "a=A('Swift')\n",
    "b=B('Suzuki')\n",
    "c=C('1000000')\n",
    "c = Car(a,b,c)   # class car had objects of others classes --this is called composition of encapsulation\n",
    "print(c)"
   ]
  },
  {
   "cell_type": "markdown",
   "metadata": {},
   "source": [
    "## Encapsulation- Dynamic Extension"
   ]
  },
  {
   "cell_type": "code",
   "execution_count": 27,
   "metadata": {},
   "outputs": [
    {
     "name": "stdout",
     "output_type": "stream",
     "text": [
      "I am from A: Alexendra\n",
      "I am from C: 10000\n",
      "I am from C: I am from A: Alexendra Value from C with dynamic extension-100\n"
     ]
    }
   ],
   "source": [
    "class A:\n",
    "    def __init__(self, name):\n",
    "        self.name=name\n",
    "    def __str__(self):\n",
    "        return \"I am from A: %s\" % (self.name)\n",
    "\n",
    "a1=A('Alexendra')   \n",
    "print(a1)\n",
    "\n",
    "#next class C\n",
    "class C:\n",
    "    def __init__(self, cost):\n",
    "        self.cost=cost\n",
    "    def __str__(self):\n",
    "        return \"I am from C: %s\" % (self.cost)\n",
    "c1=C('10000')\n",
    "print(c1)\n",
    "\n",
    "a1_c1=C(a1)\n",
    "print(a1_c1,'Value from C with dynamic extension-100') #this is called the dynamic extension of the class A"
   ]
  },
  {
   "cell_type": "markdown",
   "metadata": {},
   "source": [
    "## Polymorphism and DuckTyping"
   ]
  },
  {
   "cell_type": "code",
   "execution_count": 1,
   "metadata": {},
   "outputs": [
    {
     "name": "stdout",
     "output_type": "stream",
     "text": [
      "In case of integer: 5\n",
      "In case of strings: aman Choudhary\n",
      "In case of lists: [2, 3, 4, 5]\n"
     ]
    }
   ],
   "source": [
    "# in polymorphism\n",
    "    #overloading and overriding\n",
    "    #duck typing- means need not to take care about data type while passing (Python uses dynamic typing which is also called as duck typing)\n",
    "class A:\n",
    "    def add(self,a,b):\n",
    "        self.a=a\n",
    "        self.b=b\n",
    "        return self.a+self.b\n",
    "obj=A()\n",
    "print('In case of integer:',obj.add(2,3))\n",
    "print('In case of strings:',obj.add('aman ','Choudhary'))\n",
    "print('In case of lists:',obj.add([2,3],[4,5]))"
   ]
  },
  {
   "cell_type": "markdown",
   "metadata": {},
   "source": [
    "## using some annotations or properties"
   ]
  },
  {
   "cell_type": "code",
   "execution_count": 3,
   "metadata": {},
   "outputs": [
    {
     "name": "stdout",
     "output_type": "stream",
     "text": [
      "i am function f\n"
     ]
    }
   ],
   "source": [
    "#creating static methods\n",
    "class A:\n",
    "    def f(self):\n",
    "        print('i am normal function f')\n",
    "        \n",
    "#call this function using object\n",
    "obj=A()\n",
    "obj.f()"
   ]
  },
  {
   "cell_type": "code",
   "execution_count": 6,
   "metadata": {},
   "outputs": [
    {
     "name": "stdout",
     "output_type": "stream",
     "text": [
      "i am static function f\n"
     ]
    }
   ],
   "source": [
    "#else we can create function as static using @property annotations\n",
    "class A:\n",
    "    @staticmethod\n",
    "    def f():        #need not to pass the current instance of object as self\n",
    "        print('i am static function f')\n",
    "        \n",
    "#call this function using class only\n",
    "#obj=A()       #need not to craete object\n",
    "A.f()"
   ]
  },
  {
   "cell_type": "code",
   "execution_count": 16,
   "metadata": {},
   "outputs": [
    {
     "name": "stdout",
     "output_type": "stream",
     "text": [
      "i am agian static function f without self(means no current instance of the object)\n"
     ]
    }
   ],
   "source": [
    "#one more typical syntax\n",
    "class A:\n",
    "    def f():\n",
    "        print('i am agian static function f without self(means no current instance of the object)')\n",
    "        \n",
    "if __name__=='__main__':\n",
    "    A.f()"
   ]
  },
  {
   "cell_type": "markdown",
   "metadata": {},
   "source": [
    "#few Examples"
   ]
  },
  {
   "cell_type": "code",
   "execution_count": 27,
   "metadata": {},
   "outputs": [
    {
     "name": "stdout",
     "output_type": "stream",
     "text": [
      "Sunstracting using Add: -1\n",
      "Substrating using alias: 4\n",
      "Normal Mul function: 20\n",
      "Botht function working: -1\n",
      "Botht function working: 20\n"
     ]
    }
   ],
   "source": [
    "def add(x,y):\n",
    "    def sub(x,y):\n",
    "        return x-y\n",
    "    return sub(x,y)\n",
    "print(\"Sunstracting using Add:\",add(5,6))\n",
    "\n",
    "#sub(3,2)   --->we can not call directly and will throw thw error\n",
    "\n",
    "\n",
    "\n",
    "#we can alias it\n",
    "#like\n",
    "substract=add    # add is function name here\n",
    "\n",
    "#now call substract\n",
    "print(\"Substrating using alias:\",substract(6,2))\n",
    "\n",
    "\n",
    "###############################\n",
    "#function list\n",
    "\n",
    "#create one more function\n",
    "def mul(x,y):\n",
    "    return x*y\n",
    "\n",
    "#call mul\n",
    "\n",
    "print(\"Normal Mul function:\",mul(4,5))\n",
    "\n",
    "\n",
    "\n",
    "\n",
    "#now creating function list\n",
    "\n",
    "func_list=[add,mul]\n",
    "for f in func_list:\n",
    "    print(\"Botht function working:\",f(4,5))"
   ]
  },
  {
   "cell_type": "code",
   "execution_count": 28,
   "metadata": {},
   "outputs": [
    {
     "ename": "SyntaxError",
     "evalue": "invalid syntax (<ipython-input-28-0330020f9dd0>, line 2)",
     "output_type": "error",
     "traceback": [
      "\u001b[1;36m  File \u001b[1;32m\"<ipython-input-28-0330020f9dd0>\"\u001b[1;36m, line \u001b[1;32m2\u001b[0m\n\u001b[1;33m    _a--->private (python suggestion)   #we had example above\u001b[0m\n\u001b[1;37m         ^\u001b[0m\n\u001b[1;31mSyntaxError\u001b[0m\u001b[1;31m:\u001b[0m invalid syntax\n"
     ]
    }
   ],
   "source": [
    "#more about _, __, and __var__\n",
    "_a--->private (python suggestion)   #we had example above\n",
    "__a-->strictly private              #we have example above private methods and private members can access -_class.__privatMember\n",
    "__a__---> python internal var and we can override only #see example below"
   ]
  },
  {
   "cell_type": "code",
   "execution_count": 39,
   "metadata": {},
   "outputs": [
    {
     "name": "stdout",
     "output_type": "stream",
     "text": [
      "10\n",
      "original add: 15\n",
      "original sub: 5\n",
      "overrided add: 5\n",
      "overrided sub: 15\n"
     ]
    }
   ],
   "source": [
    "#lets take some example to understand---> __var___\n",
    "class CrazyNumber1(object):\n",
    "    def __init__(self, n):\n",
    "        self.n = n\n",
    "    def add(self, other):\n",
    "        return self.n + other\n",
    "    def sub(self, other):\n",
    "        return self.n - other\n",
    "    def __str__(self):\n",
    "        return str(self.n)\n",
    "\n",
    "\n",
    "#####################################################################\n",
    "class CrazyNumber(CrazyNumber1):\n",
    "    def __init__(self, n):\n",
    "        self.n = n\n",
    "    def __add__(self, other):\n",
    "        return self.n - other\n",
    "    def __sub__(self, other):\n",
    "        return self.n + other\n",
    "    def __str__(self):\n",
    "        return str(self.n)\n",
    "obj=CrazyNumber(10)\n",
    "print(obj)    #__overrided      __str__ working here\n",
    "\n",
    "print(\"original add:\",obj.add(5))\n",
    "print(\"original sub:\",obj.sub(5))\n",
    "print(\"overrided add:\",obj.__add__(5))\n",
    "print(\"overrided sub:\",obj.__sub__(5))"
   ]
  }
 ],
 "metadata": {
  "kernelspec": {
   "display_name": "Python 3",
   "language": "python",
   "name": "python3"
  },
  "language_info": {
   "codemirror_mode": {
    "name": "ipython",
    "version": 3
   },
   "file_extension": ".py",
   "mimetype": "text/x-python",
   "name": "python",
   "nbconvert_exporter": "python",
   "pygments_lexer": "ipython3",
   "version": "3.7.0"
  }
 },
 "nbformat": 4,
 "nbformat_minor": 2
}

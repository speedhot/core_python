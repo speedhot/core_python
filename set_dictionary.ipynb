{
 "cells": [
  {
   "cell_type": "code",
   "execution_count": 13,
   "metadata": {},
   "outputs": [
    {
     "data": {
      "text/plain": [
       "'\\nMutable\\nLsit-----[]\\nDist-----{}---->{key:value}unique key \\nSet------set()---->unique values\\n\\nImmutable\\nString\\nTulle---()\\n'"
      ]
     },
     "execution_count": 13,
     "metadata": {},
     "output_type": "execute_result"
    }
   ],
   "source": [
    "#Different Collections in the python\n",
    "\"\"\"\n",
    "Mutable\n",
    "Lsit-----[]\n",
    "Dist-----{}---->{key:value}unique key \n",
    "Set------set()---->unique values\n",
    "\n",
    "Immutable\n",
    "String\n",
    "Tuple---()\n",
    "\n",
    "\n",
    "\"\"\"\n",
    "\n"
   ]
  },
  {
   "cell_type": "markdown",
   "metadata": {},
   "source": [
    "# 1.Tuple, Functions"
   ]
  },
  {
   "cell_type": "code",
   "execution_count": 24,
   "metadata": {},
   "outputs": [
    {
     "name": "stdout",
     "output_type": "stream",
     "text": [
      "(1, 2, 3, 4, 5, 5)\n",
      "1\n",
      "2\n",
      "3\n",
      "4\n",
      "5\n",
      "5\n",
      "123"
     ]
    }
   ],
   "source": [
    "#Creating tuple\n",
    "tpl=(1,2,3,4,5,5)\n",
    "print(tpl)\n",
    "for item in tpl:\n",
    "    print(item)\n",
    "\n",
    "#printing specific from the tpl\n",
    "for item in tpl[:3]:\n",
    "    print(item, end=\"\")"
   ]
  },
  {
   "cell_type": "markdown",
   "metadata": {},
   "source": [
    "## Basic Tuple Methods\n",
    "Basic built in methods"
   ]
  },
  {
   "cell_type": "code",
   "execution_count": 1,
   "metadata": {},
   "outputs": [
    {
     "data": {
      "text/plain": [
       "4"
      ]
     },
     "execution_count": 1,
     "metadata": {},
     "output_type": "execute_result"
    }
   ],
   "source": [
    "#index()\n",
    "tpl=(1,2,3,4,5,5)\n",
    "tpl.index(5) #will return thr index of first occurance of the 5"
   ]
  },
  {
   "cell_type": "code",
   "execution_count": 3,
   "metadata": {},
   "outputs": [
    {
     "data": {
      "text/plain": [
       "2"
      ]
     },
     "execution_count": 3,
     "metadata": {},
     "output_type": "execute_result"
    }
   ],
   "source": [
    "#count()\n",
    "tpl.count(5)  #will return all occurance of the 5"
   ]
  },
  {
   "cell_type": "markdown",
   "metadata": {},
   "source": [
    "## Immutability\n",
    ".append() and new value assignment would not work here"
   ]
  },
  {
   "cell_type": "code",
   "execution_count": 9,
   "metadata": {},
   "outputs": [
    {
     "name": "stdout",
     "output_type": "stream",
     "text": [
      "(1, 2, 3, 4, 5, 5, 23, 24)\n"
     ]
    }
   ],
   "source": [
    "tpl=(1,2,3,4,5,5)\n",
    "#tpl[0]=8 # will not work due to immutability\n",
    "#tpl.append(2) #will not work due to same\n",
    "\n",
    "\n",
    "##BUT\n",
    "\n",
    "tpl=tpl+(23,24) #it would work fine as we are rewriting or re-defining the same\n",
    "print(tpl)"
   ]
  },
  {
   "cell_type": "markdown",
   "metadata": {},
   "source": [
    "## Reason of using Tuple if it is similar List\n",
    "due to immutability ---means provide data integrity"
   ]
  },
  {
   "cell_type": "markdown",
   "metadata": {},
   "source": [
    "# Set\n",
    "unordered collection of Unique values and can be declared as set()"
   ]
  },
  {
   "cell_type": "code",
   "execution_count": 15,
   "metadata": {},
   "outputs": [
    {
     "name": "stdout",
     "output_type": "stream",
     "text": [
      "{'a'}\n",
      "{1, 'a'}\n",
      "{1, 'a'}\n"
     ]
    }
   ],
   "source": [
    "s=set()\n",
    "s.add('a')\n",
    "print(s)\n",
    "s.add(1)\n",
    "print(s)\n",
    "\n",
    "## repeat addition\n",
    "s.add(1)\n",
    "print(s) #will provide the same result as ---we know not able to add duplicate value"
   ]
  },
  {
   "cell_type": "code",
   "execution_count": 18,
   "metadata": {},
   "outputs": [
    {
     "name": "stdout",
     "output_type": "stream",
     "text": [
      "{1, 2, 3, 4, 5, 56}\n"
     ]
    }
   ],
   "source": [
    "#creating set from a list\n",
    "l=[1,2,3,4,3,4,5,56,56,3]\n",
    "s=set(l)\n",
    "print(s) # return set of all unique elements buit from l"
   ]
  },
  {
   "cell_type": "markdown",
   "metadata": {},
   "source": [
    "## Dictionary"
   ]
  },
  {
   "cell_type": "code",
   "execution_count": 9,
   "metadata": {},
   "outputs": [
    {
     "name": "stdout",
     "output_type": "stream",
     "text": [
      "{1: 'one', 2: 'two'}\n",
      "1 ONE\n",
      "2 TWO\n",
      "dict_items([(1, 'one'), (2, 'two')])\n",
      "one\n"
     ]
    }
   ],
   "source": [
    "#create dictionary\n",
    "d={1:'one',2:'two'}\n",
    "print(d) #printing complete dictionary\n",
    "d.values() #printing values only\n",
    "#to print keys only\n",
    "d.keys()\n",
    "\n",
    "#accessing key and values with for loop\n",
    "for item in d:\n",
    "    print(item, d[item])\n",
    "    \n",
    "#accessing using items()-yhe key value pair\n",
    "print(d.items())   # items() also convert dict to list in whic dictionary data will be in form of tuples\n",
    "\n",
    "\n",
    "## we also can access using d[key]\n",
    "print(d[1]) #will return the value associated with key 1"
   ]
  },
  {
   "cell_type": "code",
   "execution_count": 5,
   "metadata": {},
   "outputs": [
    {
     "name": "stdout",
     "output_type": "stream",
     "text": [
      "{'one': 123, 'two': [1, 2, 3], 'three': (1, 2, 3)}\n",
      "one 123\n",
      "two [1, 2, 3]\n",
      "three (1, 2, 3)\n"
     ]
    },
    {
     "data": {
      "text/plain": [
       "3"
      ]
     },
     "execution_count": 5,
     "metadata": {},
     "output_type": "execute_result"
    }
   ],
   "source": [
    "#flexibility of dictionary ---over data types of vales it holds\n",
    "d={'one':123, \"two\":[1,2,3], 'three':(1,2,3)} #only key must be unique but values can hold duplicate as well as any type of data\n",
    "print(d)\n",
    "#for loop\n",
    "for item in d:\n",
    "    print(item, d[item])\n",
    "    \n",
    "#aacessing particular\n",
    "d['three'][2]"
   ]
  },
  {
   "cell_type": "code",
   "execution_count": 10,
   "metadata": {},
   "outputs": [
    {
     "data": {
      "text/plain": [
       "'AMAN'"
      ]
     },
     "execution_count": 10,
     "metadata": {},
     "output_type": "execute_result"
    }
   ],
   "source": [
    "#some more functions- like upper()\n",
    "d={'one':123, \"two\":[1,2,3], 'three':(1,2,3),'four':'aman'}\n",
    "d['four'].upper()"
   ]
  },
  {
   "cell_type": "code",
   "execution_count": 21,
   "metadata": {},
   "outputs": [
    {
     "name": "stdout",
     "output_type": "stream",
     "text": [
      "{'one': 123, 'two': [1, 2, 3], 'three': (1, 2, 3), 'four': 'aman'}\n",
      "{'one': 13, 'two': [1, 2, 3], 'three': (1, 2, 3), 'four': 'aman'}\n",
      "one\n",
      "two\n",
      "three\n",
      "four\n"
     ]
    }
   ],
   "source": [
    "#some more operations over the keys and values\n",
    "d={'one':123, \"two\":[1,2,3], 'three':(1,2,3),'four':'aman'}\n",
    "print(d)\n",
    "var=d['one']-110 #performing operations on the key also\n",
    "var\n",
    "#even\n",
    "d['one']=var #reassigning the key\n",
    "print(d)\n",
    "\n",
    "# getting key separately using for loop\n",
    "for key,value in d.items():\n",
    "    print(key)"
   ]
  },
  {
   "cell_type": "markdown",
   "metadata": {},
   "source": [
    "## Nesting the dictionaries"
   ]
  },
  {
   "cell_type": "code",
   "execution_count": 51,
   "metadata": {},
   "outputs": [
    {
     "name": "stdout",
     "output_type": "stream",
     "text": [
      "{22: 'twotwo'}\n",
      "{'two': [1, 2, 3], 'three': (1, 2, 3), 'four': 'aman', 'five': {22: 'twotwo'}, 'six': [23, 34, 'nest']}\n",
      "[1, 2, 3][1, 2, 3][1, 2, 3]\n",
      "\n",
      "(1, 2, 3)(1, 2, 3)(1, 2, 3)\n",
      "\n",
      "amanamanamanaman\n",
      "\n",
      "{22: 'twotwo'}\n",
      "\n",
      "[23, 34, 'nest'][23, 34, 'nest'][23, 34, 'nest']\n",
      "\n"
     ]
    }
   ],
   "source": [
    "#creating dictionary inside dictionary\n",
    "d1={22:'twotwo'}\n",
    "print(d1)\n",
    "l=[23,34,'nest']\n",
    "d={\"two\" :[1,2,3], 'three':(1,2,3),'four':'aman', 'five':d1, 'six':l} #nesting\n",
    "print(d)\n",
    " #iterating the nesting by for loop\n",
    "for item in d.values():\n",
    "    for i in item:\n",
    "        print( item, end=\"\")\n",
    "    print('\\n')\n"
   ]
  },
  {
   "cell_type": "code",
   "execution_count": 44,
   "metadata": {},
   "outputs": [
    {
     "name": "stdout",
     "output_type": "stream",
     "text": [
      "dict_keys(['two', 'three', 'four', 'five', 'six'])\n",
      "dict_values([[1, 2, 3], (1, 2, 3), 'aman', {22: 'twotwo'}, [23, 34, 'nest']])\n",
      "dict_items([('two', [1, 2, 3]), ('three', (1, 2, 3)), ('four', 'aman'), ('five', {22: 'twotwo'}), ('six', [23, 34, 'nest'])])\n"
     ]
    }
   ],
   "source": [
    "#key(),values(), items()\n",
    "print(d.keys())\n",
    "print(d.values())\n",
    "print(d.items())"
   ]
  },
  {
   "cell_type": "markdown",
   "metadata": {},
   "source": [
    "## Dictionary Comprehension"
   ]
  },
  {
   "cell_type": "code",
   "execution_count": 52,
   "metadata": {},
   "outputs": [
    {
     "name": "stdout",
     "output_type": "stream",
     "text": [
      "{0: 0, 1: 3, 2: 6, 3: 9, 4: 12}\n"
     ]
    },
    {
     "data": {
      "text/plain": [
       "{0: 0, 1: 1, 2: 8, 3: 27, 4: 64}"
      ]
     },
     "execution_count": 52,
     "metadata": {},
     "output_type": "execute_result"
    }
   ],
   "source": [
    "#creation with shorthand\n",
    "print({item:item*3 for item in range(5)})\n",
    "{item:item**3 for item in range(5)} #** means power calculation"
   ]
  },
  {
   "cell_type": "code",
   "execution_count": 58,
   "metadata": {},
   "outputs": [
    {
     "name": "stdout",
     "output_type": "stream",
     "text": [
      "{'key': {'subkey': {'sub_subkey': 'aman'}}}\n",
      "{'subkey': {'sub_subkey': 'aman'}}\n",
      "{'sub_subkey': 'aman'}\n",
      "aman\n"
     ]
    }
   ],
   "source": [
    "#more thing with nesting\n",
    "d={'key':{'subkey':{'sub_subkey':value}}}\n",
    "print(d)\n",
    "#can access like\n",
    "print(d['key'])#level 1\n",
    "print(d['key']['subkey']) #level 2\n",
    "print(d['key']['subkey']['sub_subkey']) #last level"
   ]
  },
  {
   "cell_type": "markdown",
   "metadata": {},
   "source": [
    "# Functions in python\n",
    "as similar in other language"
   ]
  },
  {
   "cell_type": "markdown",
   "metadata": {},
   "source": [
    "## def statement"
   ]
  },
  {
   "cell_type": "code",
   "execution_count": 64,
   "metadata": {},
   "outputs": [],
   "source": [
    "#def function_name(arg1,arg2,....):\n",
    "    \n",
    "'''\n",
    "    def <fun_name>(arg list): is the general  defination of declaring fun\n",
    "    '''\n",
    "#NOTE: we have pass keyword in function or we can use it in any block of code for just to pass that without doing anything\n",
    "\n",
    "#example\n",
    "for i in range(10):\n",
    "    pass     #for loop is there but doing nothing"
   ]
  },
  {
   "cell_type": "code",
   "execution_count": 68,
   "metadata": {},
   "outputs": [
    {
     "name": "stdout",
     "output_type": "stream",
     "text": [
      "13 30\n"
     ]
    }
   ],
   "source": [
    "#example of a simple add finction\n",
    "a=3\n",
    "b=10\n",
    "\n",
    "def add_fun(x,y):\n",
    "    c=x+y\n",
    "    d=x*y\n",
    "    \n",
    "    \n",
    "    return c,d\n",
    "res1,res2=add_fun(a,b)\n",
    "print(res1,res2)   # function call"
   ]
  },
  {
   "cell_type": "code",
   "execution_count": 73,
   "metadata": {},
   "outputs": [
    {
     "name": "stdout",
     "output_type": "stream",
     "text": [
      "13 30\n"
     ]
    }
   ],
   "source": [
    "#example of a simple add finction\n",
    "a=3\n",
    "b=10\n",
    "\n",
    "def add_fun(x,y):\n",
    "    c=x+y\n",
    "    d=x*y\n",
    "    if c<d:\n",
    "        m=1\n",
    "    if m==1:\n",
    "        return c,d\n",
    "res1,res2=add_fun(a,b)\n",
    "print(res1,res2)   # function call"
   ]
  },
  {
   "cell_type": "markdown",
   "metadata": {},
   "source": [
    "## Dynamic argumenting and returing of arguments\n",
    "#in python function can have many no. of agrugent with out giving them seprately and return any no. of results unlike other lang which returens only one\n"
   ]
  },
  {
   "cell_type": "code",
   "execution_count": 74,
   "metadata": {},
   "outputs": [],
   "source": [
    "#in python function can have many no. of agrugent with out giving them seprately and return any no. of results unlike other lang which returens only one\n"
   ]
  },
  {
   "cell_type": "code",
   "execution_count": 1,
   "metadata": {},
   "outputs": [
    {
     "name": "stdout",
     "output_type": "stream",
     "text": [
      "Multiply is: 6 Addition is: 10 -3\n"
     ]
    }
   ],
   "source": [
    "#exmaple 1\n",
    "def fun_mul(*a):  #*a can take any no. of arguments\n",
    "    mul=a[0]*a[1]*a[2]\n",
    "    addition = a[0]+a[1]+a[2]+a[3]\n",
    "    diff=a[0]-a[3]\n",
    "    \n",
    "    \n",
    "    return mul,addition,diff   # returning more than one\n",
    "result1,result2,d=fun_mul(1,2,3,4) # providing 4 arguments\n",
    "print(\"Multiply is:\",result1,\"Addition is:\",result2,d)\n",
    "  \n"
   ]
  },
  {
   "cell_type": "code",
   "execution_count": 82,
   "metadata": {},
   "outputs": [
    {
     "name": "stdout",
     "output_type": "stream",
     "text": [
      "Function call with multiple arguments:\n",
      "1\n",
      "2\n",
      "3\n",
      "4\n",
      "5\n",
      "6\n"
     ]
    }
   ],
   "source": [
    "#exmaple 2\n",
    "def fun_display(*a):  #*a can take any no. of arguments\n",
    "    for i in a:\n",
    "        print(i)\n",
    "\n",
    "print(\"Function call with multiple arguments:\" )\n",
    "fun_display(1,2,3,4,5,6,)"
   ]
  },
  {
   "cell_type": "code",
   "execution_count": 84,
   "metadata": {},
   "outputs": [
    {
     "name": "stdout",
     "output_type": "stream",
     "text": [
      "Function call with multiple arguments:\n",
      "[2, 3, 4, 5]\n"
     ]
    }
   ],
   "source": [
    "#exmaple 3:passing list as argument\n",
    "def fun_display(*a):  #*a can take any no. of arguments\n",
    "    for i in a:\n",
    "        print(i)\n",
    "lst=[2,3,4,5,]\n",
    "print(\"Function call with multiple arguments:\" )\n",
    "fun_display(lst)      #passing a list as argument"
   ]
  },
  {
   "cell_type": "code",
   "execution_count": 91,
   "metadata": {},
   "outputs": [
    {
     "name": "stdout",
     "output_type": "stream",
     "text": [
      "False\n",
      "1\n",
      "24\n",
      "5\n",
      "aman hamrey\n"
     ]
    }
   ],
   "source": [
    "#taking care of the returing results\n",
    "#even python is so samrt--- but it is our duty to take care of the results that we wants to be looking for\n",
    "#example\n",
    "\n",
    "def if_bool(val):\n",
    "    if val%2==1:\n",
    "        return False\n",
    "    else:\n",
    "        return True\n",
    "print(if_bool(3))  # returning true false for Even and odd  ----means the boolean result\n",
    "\n",
    "# BUT\n",
    "# if we call like this \n",
    "\n",
    "print(if_bool(3)+1)  #  will return the integer result-1\n",
    "\n",
    "#again\n",
    "\n",
    "print(if_bool(4)+23)    #will return 24\n",
    "\n",
    "#hence it is our duty to be take care of the values while providing arguemnts and having back as result\n",
    "\n",
    "#example \n",
    "def fun_add(v1,v2):\n",
    "    return v1+v2\n",
    "\n",
    "#call with integer data\n",
    "print(fun_add(2,3))\n",
    "\n",
    "#call with string\n",
    "print(fun_add('aman ', 'hamrey')) #it dnt know the data type being easy - dynamic data type\n"
   ]
  },
  {
   "cell_type": "code",
   "execution_count": 96,
   "metadata": {},
   "outputs": [
    {
     "ename": "SyntaxError",
     "evalue": "invalid syntax (<ipython-input-96-a147c9584207>, line 13)",
     "output_type": "error",
     "traceback": [
      "\u001b[1;36m  File \u001b[1;32m\"<ipython-input-96-a147c9584207>\"\u001b[1;36m, line \u001b[1;32m13\u001b[0m\n\u001b[1;33m    but the complexity is O(n), we can do in better way\u001b[0m\n\u001b[1;37m          ^\u001b[0m\n\u001b[1;31mSyntaxError\u001b[0m\u001b[1;31m:\u001b[0m invalid syntax\n"
     ]
    }
   ],
   "source": [
    "# checking prime no. using function\n",
    "\n",
    "def is_prime(num):\n",
    "    for n in range(2,num):\n",
    "        if num%n==0:\n",
    "            print('Not a prime no.')\n",
    "            break            \n",
    "        else:\n",
    "            print('Prime No.')\n",
    "\n",
    "#call\n",
    "is_prime(17)\n",
    "#but the complexity is O(n), we can do in better way"
   ]
  },
  {
   "cell_type": "code",
   "execution_count": 108,
   "metadata": {},
   "outputs": [
    {
     "name": "stdout",
     "output_type": "stream",
     "text": [
      "False\n"
     ]
    },
    {
     "data": {
      "text/plain": [
       "\"\\ntrace of whole is_prime(25) body\\n if 25%2==0 & 25>2  ----> Means even no. of greater than 2 cn't be prime\\n else \\n   for n in range(3,(5+1), 2)----> will run for 3,4,5 but will skip to 4 as we alredy checked it for even in line 2 so no need to check again\\n   \\n         \\n \\n\""
      ]
     },
     "execution_count": 108,
     "metadata": {},
     "output_type": "execute_result"
    }
   ],
   "source": [
    "#Another way of calulating prime no.\n",
    "import math\n",
    "def is_prime1(num):\n",
    "    if num%2==0 & num>2:\n",
    "        return False\n",
    "    else:\n",
    "        for n in range(3, int(math.sqrt(num)+1),  ):  # will run it from 3 to sqrt(num)+1 with increment of 2\n",
    "            if num%n==0:\n",
    "                return False\n",
    "        return True\n",
    "#call\n",
    "t=is_prime1(25)  #  \n",
    "print(t)\n",
    "\n",
    "#explanation of the program for call is_prime(25)\n",
    "'''\n",
    "trace of whole is_prime(25) body\n",
    " if 25%2==0 & 25>2  ----> Means even no. of greater than 2 cn't be prime\n",
    " else \n",
    "   for n in range(3,(5+1), 2)----> will run for 3,4,5 but will skip to 4 as we alredy checked it for even in line 2 so no need to check again\n",
    "   \n",
    "         \n",
    " \n",
    "'''"
   ]
  },
  {
   "cell_type": "markdown",
   "metadata": {},
   "source": [
    "# Iterators and Generators"
   ]
  },
  {
   "cell_type": "code",
   "execution_count": 120,
   "metadata": {},
   "outputs": [
    {
     "name": "stdout",
     "output_type": "stream",
     "text": [
      "0\n",
      "1\n",
      "8\n",
      "27\n",
      "64\n",
      "125\n",
      "216\n",
      "343\n",
      "512\n",
      "729\n",
      "By generator\n",
      "0\n",
      "1\n",
      "8\n",
      "27\n",
      "64\n",
      "125\n",
      "216\n",
      "343\n",
      "512\n",
      "729\n",
      "8\n",
      "27\n",
      "64\n"
     ]
    }
   ],
   "source": [
    "#what if we want to generate cunes up to range(10)\n",
    "\n",
    "#we can do simply like\n",
    "'''By simple for loop'''\n",
    "for i in range(10):\n",
    "    print(i**3)   # in this case all the generated items(number cubes) will hold memories seperately\n",
    "\n",
    "#generator function for generating the cubes of 3\n",
    "print('By generator') \n",
    "def gen_cubes(n):\n",
    "    for num in range(n):\n",
    "        yield num**3    # but in case of generator  seperatly memory allocation will not got by generated cubes but on fly\n",
    "\n",
    "#call this generator\n",
    "for x in gen_cubes(10):\n",
    "    print(x)\n",
    "    \n",
    "    \n",
    "#genrator for a list item to get cubes of list items\n",
    "l=[2,3,4]\n",
    "def gen_cubes(a):\n",
    "    for num in a:\n",
    "        yield num**3\n",
    "\n",
    "#call this generator\n",
    "for x in gen_cubes(l):\n",
    "    print(x)"
   ]
  },
  {
   "cell_type": "code",
   "execution_count": 131,
   "metadata": {},
   "outputs": [
    {
     "name": "stdout",
     "output_type": "stream",
     "text": [
      "0\n",
      "1\n",
      "0 1\n",
      "1 2\n",
      "2 3\n",
      "3 5\n",
      "4 8\n",
      "5 13\n",
      "6 21\n",
      "7 34\n",
      "8 55\n",
      "9 [0, 1, 1, 2, 3, 5, 8, 13, 21, 34]\n",
      "0\n",
      "1\n",
      "1\n",
      "2\n",
      "3\n",
      "5\n",
      "8\n",
      "13\n",
      "21\n",
      "34\n"
     ]
    }
   ],
   "source": [
    "#simple fibbonaci series\n",
    "\n",
    "a=0\n",
    "b=1\n",
    "print(a)\n",
    "\n",
    "for i in range(10):\n",
    "    a,b=b,a+b\n",
    "    print(a)    # all generated one taking memory\n",
    "     \n",
    "#Generation using list\n",
    "\n",
    "a=0\n",
    "b=1\n",
    "out=[]\n",
    "for i in range(10):\n",
    "    out.append(a)\n",
    "    a,b=b,a+b\n",
    "print(out)\n",
    "\n",
    "#generating Finonacci Series using generator\n",
    "def gen_fibbo(n):\n",
    "    a=0\n",
    "    b=1\n",
    "    for i in range(n):\n",
    "        yield a     # not taking memory but in fly\n",
    "        a,b=b,a+b\n",
    "    \n",
    "#call this generator\n",
    "for i in gen_fibbo(10):\n",
    "    print(i)"
   ]
  },
  {
   "cell_type": "markdown",
   "metadata": {},
   "source": [
    "## Built in function of generator next() and iter()"
   ]
  },
  {
   "cell_type": "code",
   "execution_count": 157,
   "metadata": {},
   "outputs": [
    {
     "name": "stdout",
     "output_type": "stream",
     "text": [
      "<generator object simple_gen at 0x0000000005019DE0>\n",
      "<generator object simple_gen at 0x0000000005019DE0>\n"
     ]
    }
   ],
   "source": [
    "# the generators cn't work like simple function\n",
    "#as example\n",
    "def simple_gen():\n",
    "    for i in range(3):\n",
    "        yield i\n",
    "# try calling this generator\n",
    "\n",
    "print(simple_gen())\n",
    "#it will shopw the given below pointer and we have to grab generated value from this\n",
    "#<generator object simple_gen at 0x0000000005019DE0>\n",
    "g=simple_gen()  # also would not work\n",
    "print(g)"
   ]
  },
  {
   "cell_type": "code",
   "execution_count": 153,
   "metadata": {},
   "outputs": [
    {
     "name": "stdout",
     "output_type": "stream",
     "text": [
      "0\n"
     ]
    }
   ],
   "source": [
    "#we can have generated values by next()\n",
    "print(next(g))\n"
   ]
  },
  {
   "cell_type": "code",
   "execution_count": 160,
   "metadata": {},
   "outputs": [
    {
     "ename": "StopIteration",
     "evalue": "",
     "output_type": "error",
     "traceback": [
      "\u001b[1;31m---------------------------------------------------------------------------\u001b[0m",
      "\u001b[1;31mStopIteration\u001b[0m                             Traceback (most recent call last)",
      "\u001b[1;32m<ipython-input-160-1dfb29d6357e>\u001b[0m in \u001b[0;36m<module>\u001b[1;34m()\u001b[0m\n\u001b[1;32m----> 1\u001b[1;33m \u001b[0mprint\u001b[0m\u001b[1;33m(\u001b[0m\u001b[0mnext\u001b[0m\u001b[1;33m(\u001b[0m\u001b[0mg\u001b[0m\u001b[1;33m)\u001b[0m\u001b[1;33m)\u001b[0m\u001b[1;33m\u001b[0m\u001b[0m\n\u001b[0m",
      "\u001b[1;31mStopIteration\u001b[0m: "
     ]
    }
   ],
   "source": [
    "print(next(g))"
   ]
  },
  {
   "cell_type": "code",
   "execution_count": 159,
   "metadata": {},
   "outputs": [
    {
     "ename": "StopIteration",
     "evalue": "",
     "output_type": "error",
     "traceback": [
      "\u001b[1;31m---------------------------------------------------------------------------\u001b[0m",
      "\u001b[1;31mStopIteration\u001b[0m                             Traceback (most recent call last)",
      "\u001b[1;32m<ipython-input-159-1db22e7e1122>\u001b[0m in \u001b[0;36m<module>\u001b[1;34m()\u001b[0m\n\u001b[0;32m      1\u001b[0m \u001b[1;31m#all we acn have using while\u001b[0m\u001b[1;33m\u001b[0m\u001b[1;33m\u001b[0m\u001b[0m\n\u001b[0;32m      2\u001b[0m \u001b[1;32mwhile\u001b[0m\u001b[1;33m(\u001b[0m\u001b[1;32mTrue\u001b[0m\u001b[1;33m)\u001b[0m\u001b[1;33m:\u001b[0m\u001b[1;33m\u001b[0m\u001b[0m\n\u001b[1;32m----> 3\u001b[1;33m     \u001b[0mprint\u001b[0m\u001b[1;33m(\u001b[0m\u001b[0mnext\u001b[0m\u001b[1;33m(\u001b[0m\u001b[0mg\u001b[0m\u001b[1;33m)\u001b[0m\u001b[1;33m)\u001b[0m\u001b[1;33m\u001b[0m\u001b[0m\n\u001b[0m\u001b[0;32m      4\u001b[0m \u001b[1;33m\u001b[0m\u001b[0m\n\u001b[0;32m      5\u001b[0m    \u001b[1;31m# after having all values it would generate Stopiteration error\u001b[0m\u001b[1;33m\u001b[0m\u001b[1;33m\u001b[0m\u001b[0m\n",
      "\u001b[1;31mStopIteration\u001b[0m: "
     ]
    }
   ],
   "source": [
    "#all we acn have using while\n",
    "while(True):\n",
    "    print(next(g))    \n",
    "    \n",
    "   # after having all values it would generate Stopiteration error "
   ]
  },
  {
   "cell_type": "markdown",
   "metadata": {},
   "source": [
    "## Iterator"
   ]
  },
  {
   "cell_type": "code",
   "execution_count": 163,
   "metadata": {},
   "outputs": [
    {
     "ename": "TypeError",
     "evalue": "'str' object is not an iterator",
     "output_type": "error",
     "traceback": [
      "\u001b[1;31m---------------------------------------------------------------------------\u001b[0m",
      "\u001b[1;31mTypeError\u001b[0m                                 Traceback (most recent call last)",
      "\u001b[1;32m<ipython-input-163-9ac1e6b3ecd0>\u001b[0m in \u001b[0;36m<module>\u001b[1;34m()\u001b[0m\n\u001b[0;32m      2\u001b[0m \u001b[1;31m#example\u001b[0m\u001b[1;33m\u001b[0m\u001b[1;33m\u001b[0m\u001b[0m\n\u001b[0;32m      3\u001b[0m \u001b[0ms\u001b[0m\u001b[1;33m=\u001b[0m\u001b[1;34m'hello'\u001b[0m\u001b[1;33m\u001b[0m\u001b[0m\n\u001b[1;32m----> 4\u001b[1;33m \u001b[0mnext\u001b[0m\u001b[1;33m(\u001b[0m\u001b[0ms\u001b[0m\u001b[1;33m)\u001b[0m \u001b[1;31m# will show you the error as string not iterator\u001b[0m\u001b[1;33m\u001b[0m\u001b[0m\n\u001b[0m",
      "\u001b[1;31mTypeError\u001b[0m: 'str' object is not an iterator"
     ]
    }
   ],
   "source": [
    "#iter()\n",
    "#example\n",
    "s='hello'\n",
    "next(s) # will show you the error as string not iterator"
   ]
  },
  {
   "cell_type": "code",
   "execution_count": 165,
   "metadata": {},
   "outputs": [
    {
     "data": {
      "text/plain": [
       "<str_iterator at 0x5295e80>"
      ]
     },
     "execution_count": 165,
     "metadata": {},
     "output_type": "execute_result"
    }
   ],
   "source": [
    "#so we need to use iterator iter()\n",
    "iter(s)  # will provide <str_iterator at 0x5295be0> we can take values from this\n"
   ]
  },
  {
   "cell_type": "code",
   "execution_count": 167,
   "metadata": {},
   "outputs": [
    {
     "data": {
      "text/plain": [
       "'h'"
      ]
     },
     "execution_count": 167,
     "metadata": {},
     "output_type": "execute_result"
    }
   ],
   "source": [
    "ch=iter(s)\n",
    "#now we can use next() to iterator a string till end on each use \n",
    "next(ch)"
   ]
  },
  {
   "cell_type": "markdown",
   "metadata": {},
   "source": [
    "# MAP--->map()\n",
    "the whole purpose of creating map() is saving efforts of operating a operation over a sequence of inputs by loops"
   ]
  },
  {
   "cell_type": "code",
   "execution_count": 186,
   "metadata": {},
   "outputs": [
    {
     "name": "stdout",
     "output_type": "stream",
     "text": [
      "39.2\n"
     ]
    }
   ],
   "source": [
    "#takes two arguments map(function, sequence) \n",
    "#First Argu ---- a function name\n",
    "# a sequence like list[]--- over which we want to apply the above function on all element of it\n",
    "\n",
    "#let atke example\n",
    "#if we want to convert fahrenhiet to celsius of given tempratures (.2, 4,34,50)\n",
    "#we mannually\n",
    "\n",
    "def to_temp(f_temp):\n",
    "    c_temp=(float(9)/5)*f_temp+32\n",
    "    return c_temp\n",
    "#call above\n",
    "\n",
    "res=to_temp(4) # means we need to call it every time for a series of Tempratures to convert fro fahrenhiet to Celsius\n",
    "print(res)\n",
    "    \n"
   ]
  },
  {
   "cell_type": "code",
   "execution_count": 192,
   "metadata": {},
   "outputs": [
    {
     "name": "stdout",
     "output_type": "stream",
     "text": [
      "<map object at 0x00000000052A6C88>\n",
      "Output in Celsius: [39.2, 41.0, 42.8, 32.36]\n"
     ]
    }
   ],
   "source": [
    "#by using map() we can perfrom same function over a series of inputs\n",
    "#like\n",
    "l_Temp=[4,5,6,.2]   # tempratures in fahrenhiet to be converted to celsius\n",
    "c_temp_list=map(to_temp, l_Temp)\n",
    "print(c_temp_list) #which is a map object and can be converted to list---<map object at 0x00000000052B8470>\n",
    "f_temps=list(c_temp_list)\n",
    "print(\"Output in Celsius:\",f_temps) # return all converted temp in celsius in form of list"
   ]
  },
  {
   "cell_type": "code",
   "execution_count": 196,
   "metadata": {},
   "outputs": [
    {
     "name": "stdout",
     "output_type": "stream",
     "text": [
      "In Celsius: [39.2, 41.0, 42.8, 32.36]\n",
      "[4.000000000000002, 5.0, 5.999999999999999, 0.1999999999999997]\n"
     ]
    }
   ],
   "source": [
    "#example 2: Convert back\n",
    "#write basic function\n",
    "def to_fahrenheit(c_temp):\n",
    "    return (float(5)/9*(c_temp-32))\n",
    "\n",
    "#use it with map over the above converted tempratures\n",
    "print(\"In Celsius:\",f_temps)\n",
    "print(list(map(to_fahrenheit,f_temps)))"
   ]
  },
  {
   "cell_type": "markdown",
   "metadata": {},
   "source": [
    "# lambda function \n",
    "if dnt want to create a function body and want to use directly a expression operation over the series of inputs in single line by map"
   ]
  },
  {
   "cell_type": "code",
   "execution_count": 20,
   "metadata": {},
   "outputs": [
    {
     "name": "stdout",
     "output_type": "stream",
     "text": [
      "Celsius to fahrenhiet: [39.2, 37.4, 41.0, 42.8, 44.6]\n"
     ]
    }
   ],
   "source": [
    "#as example  --- of above conversion\n",
    "c_t=[4,3,5,6,7] #tempratures in celsius\n",
    "f_t=list(map(lambda x: (9.0)/5*x+32, c_t))\n",
    "print(\"Celsius to fahrenhiet:\",f_t)"
   ]
  },
  {
   "cell_type": "code",
   "execution_count": 25,
   "metadata": {},
   "outputs": [
    {
     "name": "stdout",
     "output_type": "stream",
     "text": [
      "Temprature in Celsius: [4.000000000000002, 2.9999999999999996, 5.0, 5.999999999999999, 7.000000000000001]\n"
     ]
    }
   ],
   "source": [
    "#convert back\n",
    "c_t=list(map(lambda x: (5.0)/9*(x-32), f_t))\n",
    "print(\"Temprature in Celsius:\",c_t)"
   ]
  },
  {
   "cell_type": "code",
   "execution_count": 3,
   "metadata": {},
   "outputs": [
    {
     "name": "stdout",
     "output_type": "stream",
     "text": [
      "[58, 92, 13]\n"
     ]
    }
   ],
   "source": [
    "#onr more example of lambda function\n",
    "a=[1,2,3,4,56]\n",
    "b=[23,34,2,3,4]\n",
    "c=[34,56,8]\n",
    "\n",
    "l=list(map(lambda x,y,z:x+y+z, a,b,c))\n",
    "print(l)"
   ]
  },
  {
   "cell_type": "markdown",
   "metadata": {},
   "source": [
    "## reduce()\n",
    "it is again used like map with lambda and takes function and series of elements and provide the single out based on operation performed"
   ]
  },
  {
   "cell_type": "code",
   "execution_count": 13,
   "metadata": {},
   "outputs": [
    {
     "name": "stdout",
     "output_type": "stream",
     "text": [
      "66\n"
     ]
    }
   ],
   "source": [
    "#example\n",
    "from functools import reduce\n",
    "a=[1,2,3,4,56]\n",
    "b=[23,34,2,3,4]\n",
    "l1=reduce(lambda x,y:x+y, b)\n",
    "print(l1)"
   ]
  },
  {
   "cell_type": "code",
   "execution_count": 15,
   "metadata": {},
   "outputs": [
    {
     "data": {
      "text/plain": [
       "56"
      ]
     },
     "execution_count": 15,
     "metadata": {},
     "output_type": "execute_result"
    }
   ],
   "source": [
    "#another example of reduce to find max of a list even we have max() function\n",
    "a=[1,2,3,4,56]\n",
    "max_val=(lambda x,y: x if (x>y) else y) # seperate lambda function to find max of a series\n",
    "reduce(max_val, a) #usage of reduce to use lambda function"
   ]
  },
  {
   "cell_type": "markdown",
   "metadata": {},
   "source": [
    "## general format of lambda, map() and reduce()\n",
    "\n",
    "## 1. lambda function\n",
    "## (lambda argu list: operation on argu, list of elements)\n",
    "## map(function name, list)\n",
    "## reduce(function name, list)"
   ]
  },
  {
   "cell_type": "markdown",
   "metadata": {},
   "source": [
    "# filter()\n",
    "like above filter is also takes function name and list of elements --- provide True and False about those list of elements following the function or not"
   ]
  },
  {
   "cell_type": "code",
   "execution_count": 21,
   "metadata": {},
   "outputs": [
    {
     "name": "stdout",
     "output_type": "stream",
     "text": [
      "[2, 4, 56, 78, 56, 34]\n"
     ]
    }
   ],
   "source": [
    "# if we want to filter how many are odd or even in a given list of int\n",
    "\n",
    "def OE_check(a):\n",
    "    if a%2==0:\n",
    "        return True\n",
    "    else:\n",
    "        return False\n",
    "#given list to check\n",
    "l=[2,3,4,56,78,15,23,33,21,56,34]\n",
    "l1=list(filter(OE_check, l))\n",
    "\n",
    "print(l1)\n",
    "\n"
   ]
  },
  {
   "cell_type": "code",
   "execution_count": 28,
   "metadata": {},
   "outputs": [
    {
     "name": "stdout",
     "output_type": "stream",
     "text": [
      "[2, 4, 56, 78, 56, 34]\n"
     ]
    }
   ],
   "source": [
    "#with the help of lambda function we can also write it\n",
    "\n",
    "OE_check1=lambda x: x%2 == 0\n",
    "\n",
    "#applying filter\n",
    "\n",
    "list1_even=list(filter(OE_check1, l))\n",
    "print(list1_even)"
   ]
  },
  {
   "cell_type": "markdown",
   "metadata": {},
   "source": [
    "# To Do"
   ]
  },
  {
   "cell_type": "markdown",
   "metadata": {},
   "source": [
    "## Question: Create dict and short according to key"
   ]
  },
  {
   "cell_type": "code",
   "execution_count": 61,
   "metadata": {},
   "outputs": [
    {
     "name": "stdout",
     "output_type": "stream",
     "text": [
      "aa:3663\n",
      "aman:123\n",
      "ram:456\n",
      "('aman', 123)\n",
      "('ram', 456)\n",
      "('aa', 3663)\n"
     ]
    }
   ],
   "source": [
    "#solution\n",
    "d={'aman':123, 'ram':456, 'aa':3663}\n",
    "\n",
    "\n",
    "for key in sorted(d.keys()):\n",
    "    print(\"%s:%s\" % (key, d[key]))\n",
    "    \n",
    "for i in d.items():\n",
    "    print(i)"
   ]
  },
  {
   "cell_type": "markdown",
   "metadata": {},
   "source": [
    "## QUE: WAP to find a dict from a obejct field"
   ]
  },
  {
   "cell_type": "code",
   "execution_count": 51,
   "metadata": {},
   "outputs": [],
   "source": [
    "#solution\n",
    "#after class and object"
   ]
  },
  {
   "cell_type": "markdown",
   "metadata": {},
   "source": [
    "## WAP to remove duplicates from dict"
   ]
  },
  {
   "cell_type": "code",
   "execution_count": 90,
   "metadata": {},
   "outputs": [
    {
     "data": {
      "text/plain": [
       "'#print(student_data)\\n\\n#first let sort for the practice according to key\\n\\nfor key,values in student_data.items():\\n         #print(values)\\n         for v in values.items():\\n            #print(v)\\n            for item in v:\\n                print(item, end=\" \")\\n         print(\"\\n\")\\n        '"
      ]
     },
     "execution_count": 90,
     "metadata": {},
     "output_type": "execute_result"
    }
   ],
   "source": [
    "#solution\n",
    "student_data = {'id1':\n",
    "{'name': ['Sara'],\n",
    "'class': ['V'],\n",
    "'subject_integration': ['english, math, science']\n",
    "},\n",
    "'id2':\n",
    "{'name': ['David'],\n",
    "'class': ['V'],\n",
    "'subject_integration': ['english, math, science']\n",
    "},\n",
    "'id3':\n",
    "{'name': ['Sara'],\n",
    "'class': ['V'],\n",
    "'subject_integration': ['english, math, science']\n",
    "},\n",
    "'id4':\n",
    "{'name': ['Surya'],\n",
    "'class': ['V'],\n",
    "'subject_integration': ['english, math, science']\n",
    "},\n",
    "}\n",
    "'''#print(student_data)\n",
    "\n",
    "#first let sort for the practice according to key\n",
    "\n",
    "for key,values in student_data.items():\n",
    "         #print(values)\n",
    "         for v in values.items():\n",
    "            #print(v)\n",
    "            for item in v:\n",
    "                print(item, end=\" \")\n",
    "         print(\"\\n\")\n",
    "        '''\n",
    "        "
   ]
  },
  {
   "cell_type": "code",
   "execution_count": 129,
   "metadata": {},
   "outputs": [
    {
     "name": "stdout",
     "output_type": "stream",
     "text": [
      "Dict with no dulicacy {'id1': {'name': ['Sara'], 'class': ['V'], 'subject_integration': ['english, math, science']}, 'id2': {'name': ['David'], 'class': ['V'], 'subject_integration': ['english, math, science']}, 'id4': {'name': ['Surya'], 'class': ['V'], 'subject_integration': ['english, math, science']}}\n"
     ]
    }
   ],
   "source": [
    "#solution 1: mannual removal of dict entries using update methods\n",
    "#solution\n",
    "student_data = {'id1':\n",
    "{'name': ['Sara'],\n",
    "'class': ['V'],\n",
    "'subject_integration': ['english, math, science']\n",
    "},\n",
    "'id2':\n",
    "{'name': ['David'],\n",
    "'class': ['V'],\n",
    "'subject_integration': ['english, math, science']\n",
    "},\n",
    "'id3':\n",
    "{'name': ['Sara'],\n",
    "'class': ['V'],\n",
    "'subject_integration': ['english, math, science']\n",
    "},\n",
    "'id4':\n",
    "{'name': ['Surya'],\n",
    "'class': ['V'],\n",
    "'subject_integration': ['english, math, science']\n",
    "},\n",
    "}\n",
    "\n",
    "d={}\n",
    "for key,value in student_data.items():\n",
    "        if value not in d.values():\n",
    "            d.update({key: (value)})\n",
    "           # d[key]=(value)\n",
    "        \n",
    "print(\"Dict with no dulicacy\", d)\n",
    "    "
   ]
  },
  {
   "cell_type": "code",
   "execution_count": 1,
   "metadata": {},
   "outputs": [
    {
     "name": "stdout",
     "output_type": "stream",
     "text": [
      "Dict with no dulicacy {'id1': {'name': ['Sara'], 'class': ['V'], 'subject_integration': ['english, math, science']}, 'id2': {'name': ['David'], 'class': ['V'], 'subject_integration': ['english, math, science']}, 'id4': {'name': ['Surya'], 'class': ['V'], 'subject_integration': ['english, math, science']}}\n"
     ]
    }
   ],
   "source": [
    "#solution 2: mannual removal of dict entries based on names\n",
    "#solution\n",
    "student_data = {'id1':\n",
    "{'name': ['Sara'],\n",
    "'class': ['V'],\n",
    "'subject_integration': ['english, math, science']\n",
    "},\n",
    "'id2':\n",
    "{'name': ['David'],\n",
    "'class': ['V'],\n",
    "'subject_integration': ['english, math, science']\n",
    "},\n",
    "'id3':\n",
    "{'name': ['Sara'],\n",
    "'class': ['V'],\n",
    "'subject_integration': ['english, math, science']\n",
    "},\n",
    "'id4':\n",
    "{'name': ['Surya'],\n",
    "'class': ['V'],\n",
    "'subject_integration': ['english, math, science']\n",
    "},\n",
    "}\n",
    "new={}\n",
    "for k,v in student_data.items():\n",
    "        if v not in new.values():\n",
    "            new[k]=v\n",
    "        \n",
    "print(\"Dict with no dulicacy\", new)\n"
   ]
  },
  {
   "cell_type": "markdown",
   "metadata": {},
   "source": [
    "## Questtion:WAP to combine two dictionary adding values for common keys"
   ]
  },
  {
   "cell_type": "markdown",
   "metadata": {},
   "source": [
    "## counter()"
   ]
  },
  {
   "cell_type": "code",
   "execution_count": 73,
   "metadata": {},
   "outputs": [
    {
     "name": "stdout",
     "output_type": "stream",
     "text": [
      "Counter({1: 2, 2: 2, 3: 2, 4: 1})\n",
      "Counter({2: 5, 1: 2, 3: 1, 'abc': 1})\n",
      "Counter({'a3': 67, 'a2': 6, 'a1': 4})\n",
      "{'a1': 4, 'a2': 6, 'a3': 67}\n"
     ]
    }
   ],
   "source": [
    "#Example with list Using counter\n",
    "from collections import Counter\n",
    "l=[1,2,3,4,1,2,3]\n",
    "print(Counter(l))   #hence counter just counts the occurance of items in any collection\n",
    "\n",
    "#example with tuple\n",
    "t=(1,1,2,2,2,2,2,3,'abc')\n",
    "print(Counter(t))\n",
    "\n",
    "#example with dict\n",
    "\n",
    "d={'a1':1,'a2':2,'a3':67}\n",
    "d1={'a1':3,'a2':4}\n",
    "print(Counter(d)+Counter(d1)) # in case of dictionary(integer value) it will add the values of same key in both dict and produce one\n",
    "\n",
    "#the mannual way of adding values of common key in dict for integer values\n",
    "\n",
    "for key in d:\n",
    "    if key in d1:\n",
    "        d1[key]=d[key]+d1[key]\n",
    "    else:\n",
    "        d1.update({key: d[key]})\n",
    "        \n",
    "print(d1)\n",
    "\n"
   ]
  },
  {
   "cell_type": "markdown",
   "metadata": {},
   "source": [
    "## Combination if both dict contains string, int values for common and seperate keys"
   ]
  },
  {
   "cell_type": "code",
   "execution_count": 78,
   "metadata": {},
   "outputs": [
    {
     "name": "stdout",
     "output_type": "stream",
     "text": [
      "Final Dict:\n",
      " {'a1': 'aman, choudhary', 'a2': 'two, four', 'a3': 'three', 'a5': 'five', 'a4': 'seven', 'a7': 2345}\n"
     ]
    }
   ],
   "source": [
    "#combining two dict if values are of string kind in both dict\n",
    "d11={'a1':'aman','a2':'two','a3':'three', 'a5':'five'}\n",
    "d12={'a1':'choudhary','a2':'four', 'a5':'five', 'a4':\"seven\", 'a7':2345}\n",
    "d13={}\n",
    "\n",
    "def dict_combine1(d11,d12):\n",
    "    for key in d11:\n",
    "        if key in d12:\n",
    "            if d11[key]==d12[key]:\n",
    "                d13.update({key: d11[key]})\n",
    "            \n",
    "            else:\n",
    "                d13.update({key: d11[key]+\", \"+d12[key]})   #if both having same key but different values\n",
    "           \n",
    "        else:\n",
    "            d13.update({key: d11[key]})  # taking a extra entry if first dict contains some extra entry\n",
    "            \n",
    "    for k in d11:   # checking for --if extra keys reamin in first or second and not yet included to d13\n",
    "        if k in d13:\n",
    "            pass\n",
    "        \n",
    "    for k in d12:\n",
    "        if k in d13:\n",
    "            pass\n",
    "        else:\n",
    "            d13.update({k: d12[k]}) \n",
    "            \n",
    "    return d13\n",
    "    \n",
    "\n",
    "print('Final Dict:\\n',dict_combine1(d11,d12))  #final dict"
   ]
  },
  {
   "cell_type": "markdown",
   "metadata": {},
   "source": [
    "## Question: write a program to print all unique values from a dictionary in a list"
   ]
  },
  {
   "cell_type": "code",
   "execution_count": 92,
   "metadata": {},
   "outputs": [
    {
     "name": "stdout",
     "output_type": "stream",
     "text": [
      "The mannual way\n",
      "['five', 2345, 'choudhary', 'four', 'seven']\n",
      " By single line for loop\n",
      "['five', 2345, 'choudhary', 'four', 'seven']\n"
     ]
    },
    {
     "data": {
      "text/plain": [
       "list"
      ]
     },
     "execution_count": 92,
     "metadata": {},
     "output_type": "execute_result"
    }
   ],
   "source": [
    "#Solution1 : mannual way \n",
    "d={'a1':'choudhary','a2':'four', 'a5':'five', 'a4':\"seven\", 'a7':2345, 'a8':'four'}\n",
    "s=set()\n",
    "print(\"The mannual way\")\n",
    "for key in d:\n",
    "    m=d[key]\n",
    "    s.add(m)\n",
    "l=list(s)\n",
    "print(l)    \n",
    "\n",
    "#Solution 2: single line solution\n",
    "print(\" By single line for loop\")\n",
    "l1=list(set(value for value in d.values()))\n",
    "print(l1)\n",
    "type(l1)"
   ]
  },
  {
   "cell_type": "markdown",
   "metadata": {},
   "source": [
    "d=[{'a1':'choudhary','a2':'four', 'a5':'five', 'a4':\"seven\", 'a7':2345, 'a8':'four'},]\n"
   ]
  },
  {
   "cell_type": "code",
   "execution_count": 99,
   "metadata": {},
   "outputs": [
    {
     "name": "stdout",
     "output_type": "stream",
     "text": [
      "['five', 'value_z1', 2345, 'choudhary', 'four', 'seven']\n"
     ]
    }
   ],
   "source": [
    "d_list=[{'a1':'choudhary','a2':'four', 'a5':'five', 'a4':\"seven\", 'a7':2345, 'a8':'four'},{'z1':'value_z1'}]\n",
    "l1=list(set(item for dic in d_list for item in dic.values()))\n",
    "print(l1)"
   ]
  },
  {
   "cell_type": "markdown",
   "metadata": {},
   "source": [
    "## Creating a dictionary using two lists of same length ---one's value as key another value as value in dict"
   ]
  },
  {
   "cell_type": "code",
   "execution_count": 109,
   "metadata": {},
   "outputs": [
    {
     "name": "stdout",
     "output_type": "stream",
     "text": [
      "dict d: {1: 'val3', 2: 'val3', 3: 'val3'}\n",
      "dict d1: {1: 'val3', 2: 'val3', 3: 'val3'}\n",
      "dict d3: {1: 'val1', 2: 'val2', 3: 'val3'}\n"
     ]
    }
   ],
   "source": [
    "#Solution\n",
    "l1=[1,2,3]\n",
    "l2=['val1','val2','val3']\n",
    "d={}\n",
    "#mannual for loop method\n",
    "for item in l1:\n",
    "    for val in l2:\n",
    "        d.update({item: val})\n",
    "            \n",
    "print(\"dict d:\",d)\n",
    "\n",
    "\n",
    "#solution 2: in a single line\n",
    "\n",
    "d1={a:b for a in l1 for b in l2}\n",
    "print(\"dict d1:\",d1)\n",
    "\n",
    "\n",
    "#using zip function\n",
    "d3={a:b for a,b in zip(l1, l2)}\n",
    "print(\"dict d3:\",d3)"
   ]
  }
 ],
 "metadata": {
  "kernelspec": {
   "display_name": "Python 3",
   "language": "python",
   "name": "python3"
  },
  "language_info": {
   "codemirror_mode": {
    "name": "ipython",
    "version": 3
   },
   "file_extension": ".py",
   "mimetype": "text/x-python",
   "name": "python",
   "nbconvert_exporter": "python",
   "pygments_lexer": "ipython3",
   "version": "3.7.0"
  }
 },
 "nbformat": 4,
 "nbformat_minor": 2
}

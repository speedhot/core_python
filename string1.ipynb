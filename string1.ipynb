{
 "cells": [
  {
   "cell_type": "code",
   "execution_count": 2,
   "metadata": {},
   "outputs": [
    {
     "name": "stdout",
     "output_type": "stream",
     "text": [
      "hello\n"
     ]
    },
    {
     "data": {
      "text/plain": [
       "\"I 'am aman here in banagalore\""
      ]
     },
     "execution_count": 2,
     "metadata": {},
     "output_type": "execute_result"
    }
   ],
   "source": [
    "#single world\n",
    "print('hello');\n",
    "\"I 'am aman here in banagalore\"\n"
   ]
  },
  {
   "cell_type": "code",
   "execution_count": 3,
   "metadata": {},
   "outputs": [
    {
     "name": "stdout",
     "output_type": "stream",
     "text": [
      "12\n",
      "21\n"
     ]
    }
   ],
   "source": [
    "#this is also a string and calculating length\n",
    "str1=\"ok i am here\"\n",
    "l=len(str1)\n",
    "print(l)\n",
    "s=len('Hi i am not a 1string')\n",
    "print (s)"
   ]
  },
  {
   "cell_type": "code",
   "execution_count": 5,
   "metadata": {},
   "outputs": [
    {
     "name": "stdout",
     "output_type": "stream",
     "text": [
      "a\n",
      "ama\n",
      "choudhary\n",
      "aman\n"
     ]
    }
   ],
   "source": [
    "#string as array and spliting it into list \n",
    "a='aman choudhary'\n",
    "print(a[2])\n",
    "#a[1]\n",
    "string2=a[:3]\n",
    "print(string2)\n",
    "list=a.split()\n",
    "print(list[1])\n",
    "print(list[0])"
   ]
  },
  {
   "cell_type": "code",
   "execution_count": 4,
   "metadata": {},
   "outputs": [
    {
     "name": "stdout",
     "output_type": "stream",
     "text": [
      "a\n",
      "['', 'x', 'y', 'z', 'w']\n",
      "['aman', 'choudhary', 'hamrey']\n"
     ]
    }
   ],
   "source": [
    "#spliting a string by special character\n",
    "a='aman|choudhary|hamrey'\n",
    "print(a[2])\n",
    "\n",
    "list=a.split('|')\n",
    "str1=\"@x@y@z@w\"\n",
    "print(str1.split('@'))\n",
    "print(list)"
   ]
  },
  {
   "cell_type": "code",
   "execution_count": 5,
   "metadata": {},
   "outputs": [
    {
     "data": {
      "text/plain": [
       "'s'"
      ]
     },
     "execution_count": 5,
     "metadata": {},
     "output_type": "execute_result"
    }
   ],
   "source": [
    "#String with negative ranges -1\n",
    "s1='xyzbasbhdgsag'\n",
    "s1[-3]"
   ]
  },
  {
   "cell_type": "code",
   "execution_count": 8,
   "metadata": {},
   "outputs": [
    {
     "name": "stdout",
     "output_type": "stream",
     "text": [
      "aman \n",
      "n hamr\n"
     ]
    }
   ],
   "source": [
    "#String with negative ranges -2:\n",
    "s1='aman hamrey'\n",
    "print(s1[:5])\n",
    "print(s1[3:-2])"
   ]
  },
  {
   "cell_type": "code",
   "execution_count": 9,
   "metadata": {},
   "outputs": [
    {
     "name": "stdout",
     "output_type": "stream",
     "text": [
      "mn\n",
      "an\n"
     ]
    }
   ],
   "source": [
    "#to be discuss\n",
    "s1='aman'\n",
    "print(s1[1::2])\n",
    "print(s1[2:])"
   ]
  },
  {
   "cell_type": "code",
   "execution_count": 37,
   "metadata": {},
   "outputs": [],
   "source": [
    "# in python we have majorly such type like\n",
    "#####Mutable####\n",
    "#dict\n",
    "#list\n",
    "#array\n",
    "\n",
    "######immutable#####\n",
    "\n",
    "#tuple\n",
    "#string"
   ]
  },
  {
   "cell_type": "code",
   "execution_count": 20,
   "metadata": {},
   "outputs": [
    {
     "name": "stdout",
     "output_type": "stream",
     "text": [
      "[1, 2, 3, 4, 'a man', '@', '123']\n",
      "3\n",
      "[1, 2, 3, 'abc', 'a man', '@', '123']\n"
     ]
    }
   ],
   "source": [
    "#try list first\n",
    "L=[1,2,3,4,'a man','@','123']\n",
    "print(L)\n",
    "#print particular\n",
    "print(L[2])\n",
    "\n",
    "#Now change the first item of list\n",
    "L[3]='abc'\n",
    "print(L)"
   ]
  },
  {
   "cell_type": "code",
   "execution_count": 13,
   "metadata": {},
   "outputs": [
    {
     "name": "stdout",
     "output_type": "stream",
     "text": [
      "My name is Khan bjghghsx\n",
      "24\n",
      "n\n"
     ]
    },
    {
     "ename": "TypeError",
     "evalue": "'str' object does not support item assignment",
     "output_type": "error",
     "traceback": [
      "\u001b[1;31m---------------------------------------------------------------------------\u001b[0m",
      "\u001b[1;31mTypeError\u001b[0m                                 Traceback (most recent call last)",
      "\u001b[1;32m<ipython-input-13-26784dbad8ed>\u001b[0m in \u001b[0;36m<module>\u001b[1;34m()\u001b[0m\n\u001b[0;32m      6\u001b[0m \u001b[0mprint\u001b[0m\u001b[1;33m(\u001b[0m\u001b[0ms1\u001b[0m\u001b[1;33m[\u001b[0m\u001b[1;36m3\u001b[0m\u001b[1;33m]\u001b[0m\u001b[1;33m)\u001b[0m\u001b[1;33m\u001b[0m\u001b[0m\n\u001b[0;32m      7\u001b[0m \u001b[1;31m#chnage it with $\u001b[0m\u001b[1;33m\u001b[0m\u001b[1;33m\u001b[0m\u001b[0m\n\u001b[1;32m----> 8\u001b[1;33m \u001b[0ms1\u001b[0m\u001b[1;33m[\u001b[0m\u001b[1;36m3\u001b[0m\u001b[1;33m]\u001b[0m\u001b[1;33m=\u001b[0m\u001b[1;34m'$'\u001b[0m\u001b[1;33m\u001b[0m\u001b[0m\n\u001b[0m\u001b[0;32m      9\u001b[0m \u001b[0mprint\u001b[0m\u001b[1;33m(\u001b[0m\u001b[0ms1\u001b[0m\u001b[1;33m)\u001b[0m\u001b[1;33m\u001b[0m\u001b[0m\n",
      "\u001b[1;31mTypeError\u001b[0m: 'str' object does not support item assignment"
     ]
    }
   ],
   "source": [
    "# Now check if String is Mutable or Immutable\n",
    "s1=\"My name is Khan bjghghsx\"\n",
    "print(s1)\n",
    "print(len(s1))\n",
    "\n",
    "print(s1[3])\n",
    "#chnage it with $\n",
    "s1[3]='$'\n",
    "print(s1)"
   ]
  },
  {
   "cell_type": "code",
   "execution_count": 23,
   "metadata": {},
   "outputs": [
    {
     "name": "stdout",
     "output_type": "stream",
     "text": [
      "my name is khan Ahmed ok\n"
     ]
    }
   ],
   "source": [
    "#But such operations like \n",
    "s1=\"my name is khan\"\n",
    "s1=s1+\" Ahmed\"\n",
    "s2=\" ok\"\n",
    "s1=s1+s2\n",
    "print(s1)"
   ]
  },
  {
   "cell_type": "code",
   "execution_count": 17,
   "metadata": {},
   "outputs": [
    {
     "name": "stdout",
     "output_type": "stream",
     "text": [
      "('abc', 'bcd')\n",
      "abc\n"
     ]
    },
    {
     "ename": "TypeError",
     "evalue": "'tuple' object does not support item assignment",
     "output_type": "error",
     "traceback": [
      "\u001b[1;31m---------------------------------------------------------------------------\u001b[0m",
      "\u001b[1;31mTypeError\u001b[0m                                 Traceback (most recent call last)",
      "\u001b[1;32m<ipython-input-17-528d24f4be2f>\u001b[0m in \u001b[0;36m<module>\u001b[1;34m()\u001b[0m\n\u001b[0;32m      5\u001b[0m \u001b[0mprint\u001b[0m\u001b[1;33m(\u001b[0m\u001b[0mtpl\u001b[0m\u001b[1;33m)\u001b[0m\u001b[1;33m\u001b[0m\u001b[0m\n\u001b[0;32m      6\u001b[0m \u001b[0mprint\u001b[0m\u001b[1;33m(\u001b[0m\u001b[0mtpl\u001b[0m\u001b[1;33m[\u001b[0m\u001b[1;36m0\u001b[0m\u001b[1;33m]\u001b[0m\u001b[1;33m)\u001b[0m\u001b[1;33m\u001b[0m\u001b[0m\n\u001b[1;32m----> 7\u001b[1;33m \u001b[0mtpl\u001b[0m\u001b[1;33m[\u001b[0m\u001b[1;36m0\u001b[0m\u001b[1;33m]\u001b[0m\u001b[1;33m=\u001b[0m\u001b[1;34m'a'\u001b[0m\u001b[1;33m\u001b[0m\u001b[0m\n\u001b[0m\u001b[0;32m      8\u001b[0m \u001b[0mprint\u001b[0m\u001b[1;33m(\u001b[0m\u001b[0mtpl\u001b[0m\u001b[1;33m[\u001b[0m\u001b[1;36m0\u001b[0m\u001b[1;33m]\u001b[0m\u001b[1;33m)\u001b[0m\u001b[1;33m\u001b[0m\u001b[0m\n",
      "\u001b[1;31mTypeError\u001b[0m: 'tuple' object does not support item assignment"
     ]
    }
   ],
   "source": [
    "#example of tuple\n",
    "##Note: Tuple always contains unique values and it is similar like set in another lang\n",
    "##list and Array both are also same in Python\n",
    "tpl=('abc','bcd')\n",
    "print(tpl)\n",
    "print(tpl[0])\n",
    "tpl[0]='a'\n",
    "print(tpl[0])"
   ]
  },
  {
   "cell_type": "code",
   "execution_count": 24,
   "metadata": {},
   "outputs": [
    {
     "name": "stdout",
     "output_type": "stream",
     "text": [
      "('abc', 'bcd', 'abc')\n",
      "abc\n"
     ]
    },
    {
     "ename": "TypeError",
     "evalue": "'tuple' object does not support item assignment",
     "output_type": "error",
     "traceback": [
      "\u001b[1;31m---------------------------------------------------------------------------\u001b[0m",
      "\u001b[1;31mTypeError\u001b[0m                                 Traceback (most recent call last)",
      "\u001b[1;32m<ipython-input-24-08a16720a0e3>\u001b[0m in \u001b[0;36m<module>\u001b[1;34m()\u001b[0m\n\u001b[0;32m      5\u001b[0m \u001b[0mprint\u001b[0m\u001b[1;33m(\u001b[0m\u001b[0mtpl\u001b[0m\u001b[1;33m[\u001b[0m\u001b[1;36m0\u001b[0m\u001b[1;33m]\u001b[0m\u001b[1;33m)\u001b[0m\u001b[1;33m\u001b[0m\u001b[0m\n\u001b[0;32m      6\u001b[0m \u001b[1;33m\u001b[0m\u001b[0m\n\u001b[1;32m----> 7\u001b[1;33m \u001b[0mtpl\u001b[0m\u001b[1;33m[\u001b[0m\u001b[1;36m0\u001b[0m\u001b[1;33m]\u001b[0m\u001b[1;33m=\u001b[0m\u001b[1;34m'mno'\u001b[0m\u001b[1;33m\u001b[0m\u001b[0m\n\u001b[0m\u001b[0;32m      8\u001b[0m \u001b[0mprint\u001b[0m\u001b[1;33m(\u001b[0m\u001b[0mtpl\u001b[0m\u001b[1;33m)\u001b[0m\u001b[1;33m\u001b[0m\u001b[0m\n",
      "\u001b[1;31mTypeError\u001b[0m: 'tuple' object does not support item assignment"
     ]
    }
   ],
   "source": [
    "#to be discuss\n",
    "#check immutability of tuple\n",
    "tpl=('abc','bcd','abc')\n",
    "print(tpl)\n",
    "#print particular\n",
    "print(tpl[0])\n",
    "\n",
    "tpl[0]='mno'\n",
    "print(tpl)\n",
    "\n"
   ]
  },
  {
   "cell_type": "code",
   "execution_count": 9,
   "metadata": {},
   "outputs": [
    {
     "name": "stdout",
     "output_type": "stream",
     "text": [
      "['abc', 'bcd']\n",
      "abc\n"
     ]
    }
   ],
   "source": [
    "#example Dict\n",
    "dct=['abc','bcd']\n",
    "print(dct)\n",
    "print(dct[0])"
   ]
  },
  {
   "cell_type": "code",
   "execution_count": 10,
   "metadata": {},
   "outputs": [
    {
     "name": "stdout",
     "output_type": "stream",
     "text": [
      "['mno', 'bcd']\n"
     ]
    }
   ],
   "source": [
    "#check mutability of dictionary\n",
    "dct[0]='mno'\n",
    "print(dct)"
   ]
  },
  {
   "cell_type": "code",
   "execution_count": 26,
   "metadata": {},
   "outputs": [
    {
     "name": "stdout",
     "output_type": "stream",
     "text": [
      "MaanMaanMaanMaanMaanMaanMaanMaanMaanMaan\n"
     ]
    }
   ],
   "source": [
    "#creating replica of String in python\n",
    "s='Maan'\n",
    "print(s*10)"
   ]
  },
  {
   "cell_type": "code",
   "execution_count": 13,
   "metadata": {},
   "outputs": [
    {
     "name": "stdout",
     "output_type": "stream",
     "text": [
      "[1, 2, 3, 1, 2, 3, 1, 2, 3, 1, 2, 3, 1, 2, 3, 1, 2, 3, 1, 2, 3, 1, 2, 3, 1, 2, 3, 1, 2, 3]\n"
     ]
    }
   ],
   "source": [
    "#creating replica of list in python\n",
    "lst=[1,2,3]\n",
    "print(lst*10)"
   ]
  },
  {
   "cell_type": "code",
   "execution_count": 14,
   "metadata": {},
   "outputs": [
    {
     "name": "stdout",
     "output_type": "stream",
     "text": [
      "(1, 2, 3, 1, 2, 3, 1, 2, 3, 1, 2, 3, 1, 2, 3, 1, 2, 3, 1, 2, 3, 1, 2, 3, 1, 2, 3, 1, 2, 3)\n"
     ]
    }
   ],
   "source": [
    "#creating replica of tuple in python\n",
    "t=(1,2,3)\n",
    "print(t*10)"
   ]
  },
  {
   "cell_type": "code",
   "execution_count": 15,
   "metadata": {},
   "outputs": [
    {
     "name": "stdout",
     "output_type": "stream",
     "text": [
      "['abc', '234', 'asd', 'abc', '234', 'asd', 'abc', '234', 'asd', 'abc', '234', 'asd', 'abc', '234', 'asd', 'abc', '234', 'asd', 'abc', '234', 'asd', 'abc', '234', 'asd', 'abc', '234', 'asd', 'abc', '234', 'asd']\n"
     ]
    }
   ],
   "source": [
    "#creating replica of dict in python\n",
    "d=['abc','234','asd']\n",
    "print(d*10)"
   ]
  },
  {
   "cell_type": "code",
   "execution_count": 20,
   "metadata": {},
   "outputs": [
    {
     "data": {
      "text/plain": [
       "'AMAN KUMAR HAMREY'"
      ]
     },
     "execution_count": 20,
     "metadata": {},
     "output_type": "execute_result"
    }
   ],
   "source": [
    "##Basic Built in Methods in Python for String\n",
    "s='aman kumar hamrey'\n",
    "\n",
    "#upper case\n",
    "s.upper()\n"
   ]
  },
  {
   "cell_type": "code",
   "execution_count": 21,
   "metadata": {},
   "outputs": [
    {
     "data": {
      "text/plain": [
       "'aman kumar hamrey'"
      ]
     },
     "execution_count": 21,
     "metadata": {},
     "output_type": "execute_result"
    }
   ],
   "source": [
    "#lower case\n",
    "s.lower()"
   ]
  },
  {
   "cell_type": "code",
   "execution_count": 29,
   "metadata": {},
   "outputs": [
    {
     "data": {
      "text/plain": [
       "['my', 'name', 'is', 'speedhot']"
      ]
     },
     "execution_count": 29,
     "metadata": {},
     "output_type": "execute_result"
    }
   ],
   "source": [
    "#split a string - it will return complete list of substring \n",
    "s='my name is speedhot'\n",
    "s.split()"
   ]
  },
  {
   "cell_type": "code",
   "execution_count": 23,
   "metadata": {},
   "outputs": [
    {
     "data": {
      "text/plain": [
       "['aman', 'kumar', 'hamrey']"
      ]
     },
     "execution_count": 23,
     "metadata": {},
     "output_type": "execute_result"
    }
   ],
   "source": [
    "#spliting from a special character\n",
    "s='aman|kumar|hamrey'\n",
    "s.split('|')"
   ]
  },
  {
   "cell_type": "code",
   "execution_count": 24,
   "metadata": {},
   "outputs": [
    {
     "data": {
      "text/plain": [
       "['', 'm', 'n|kum', 'r|h', 'mrey']"
      ]
     },
     "execution_count": 24,
     "metadata": {},
     "output_type": "execute_result"
    }
   ],
   "source": [
    "s='aman|kumar|hamrey'\n",
    "s.split('a')"
   ]
  },
  {
   "cell_type": "code",
   "execution_count": 24,
   "metadata": {},
   "outputs": [
    {
     "name": "stdout",
     "output_type": "stream",
     "text": [
      "Kunwar Satya Vira College of Engineering and Management: Excellency in Education\n",
      "Kunwar Satya Vira College of Engineering and Management: Excellency in Education3 value\n"
     ]
    }
   ],
   "source": [
    "# print formatting using {} and % as printf() in C language\n",
    "s='Kunwar Satya Vira College of Engineering and Management'\n",
    "#similar like 'C alangiage' we have {} as formate specifier and .format method is used to insert new at that place\n",
    "s=s+\": {}\".format('Excellency in Education')\n",
    "print(s)\n",
    "s=s+\"%s value\" % (3)\n",
    "print(s)"
   ]
  },
  {
   "cell_type": "code",
   "execution_count": 26,
   "metadata": {},
   "outputs": [
    {
     "name": "stdout",
     "output_type": "stream",
     "text": [
      "aman kumar\n",
      "10 and value of b=20\n",
      "id of first string: 88581992 \n",
      " id of seconf string: 88581992\n"
     ]
    }
   ],
   "source": [
    "s=\"aman {}\".format('kumar')\n",
    "print(s)\n",
    "\n",
    "# formation of the variable values\n",
    "a=10\n",
    "b=20\n",
    "#s='a={1} and value of b={0}'.format(a,b)\n",
    "#or using % operator like in C\n",
    "s='%d and value of b=%d' % (a,b)\n",
    "print(s)\n",
    "\n",
    "\n",
    "\n",
    "\n",
    "##check how python works with string as far as storage is concerned\n",
    "str1=\"aman\"\n",
    "str2='aman'\n",
    "sid1=id(str1)\n",
    "sid2=id(str2)\n",
    "print(\"id of first string: {0} \\n id of seconf string: {1}\".format(sid1,sid2))"
   ]
  },
  {
   "cell_type": "markdown",
   "metadata": {},
   "source": [
    "# Location and Counting\n"
   ]
  },
  {
   "cell_type": "code",
   "execution_count": 28,
   "metadata": {},
   "outputs": [
    {
     "name": "stdout",
     "output_type": "stream",
     "text": [
      "1\n"
     ]
    }
   ],
   "source": [
    "#counting the charater occurance\n",
    "s='Kunwar Satya Vira College of Engineering and Management'\n",
    "print(s.count('Co'))"
   ]
  },
  {
   "cell_type": "code",
   "execution_count": 33,
   "metadata": {},
   "outputs": [
    {
     "name": "stdout",
     "output_type": "stream",
     "text": [
      "1\n",
      "Kunwar\n"
     ]
    }
   ],
   "source": [
    "#counting the charater occurance\n",
    "s='Kunwar@ Satya Vira College of Engineering and Management'\n",
    "print(s.count('Coll'))\n",
    "l=s.split('@')\n",
    "print(l[0])"
   ]
  },
  {
   "cell_type": "code",
   "execution_count": 38,
   "metadata": {},
   "outputs": [
    {
     "data": {
      "text/plain": [
       "18"
      ]
     },
     "execution_count": 38,
     "metadata": {},
     "output_type": "execute_result"
    }
   ],
   "source": [
    "#finding location of Occurance\n",
    "\n",
    "s.find('Coll')\n",
    "#alwyas return first occurance"
   ]
  },
  {
   "cell_type": "code",
   "execution_count": 44,
   "metadata": {},
   "outputs": [
    {
     "name": "stdout",
     "output_type": "stream",
     "text": [
      "Kunwar@ Satya Vira College of Engineering and Management\n",
      "56\n",
      "66\n",
      "*****Kunwar@ Satya Vira College of Engineering and Management*****\n"
     ]
    },
    {
     "data": {
      "text/plain": [
       "56"
      ]
     },
     "execution_count": 44,
     "metadata": {},
     "output_type": "execute_result"
    }
   ],
   "source": [
    "#center() fills the padded characters on both side of a string\n",
    "print(s)\n",
    "print(len(s))\n",
    "padded_s=s.center(66)\n",
    "print(len(padded_s))\n",
    "#with fillchar option\n",
    "print(s.center(66, '*'))\n",
    "#actual string length\n",
    "len(s)"
   ]
  },
  {
   "cell_type": "code",
   "execution_count": 47,
   "metadata": {},
   "outputs": [
    {
     "data": {
      "text/plain": [
       "'Kunwar  Satya   Vira    College of Engineering and Management'"
      ]
     },
     "execution_count": 47,
     "metadata": {},
     "output_type": "execute_result"
    }
   ],
   "source": [
    "#expandtabs() method to expand a string bt \\t\n",
    "s='Kunwar\\tSatya\\tVira\\tCollege of Engineering and Management'\n",
    "\n",
    "s.expandtabs()"
   ]
  },
  {
   "cell_type": "markdown",
   "metadata": {},
   "source": [
    "# is checking methods\n"
   ]
  },
  {
   "cell_type": "code",
   "execution_count": 25,
   "metadata": {},
   "outputs": [
    {
     "data": {
      "text/plain": [
       "True"
      ]
     },
     "execution_count": 25,
     "metadata": {},
     "output_type": "execute_result"
    }
   ],
   "source": [
    "#checking of alpha numeric\n",
    "pwd='Aman123'\n",
    "\n",
    "pwd.isalnum() #will return true is string is alpha-numeric\n"
   ]
  },
  {
   "cell_type": "code",
   "execution_count": 28,
   "metadata": {},
   "outputs": [
    {
     "name": "stdout",
     "output_type": "stream",
     "text": [
      "True\n",
      "False\n"
     ]
    }
   ],
   "source": [
    "#checking of alphabetic only\n",
    "pwd='Aman'\n",
    "\n",
    "print(pwd.isalpha())#will return true is string is alphabetic\n",
    "\n",
    "s='aman123'\n",
    "print(s.isalpha())"
   ]
  },
  {
   "cell_type": "code",
   "execution_count": 32,
   "metadata": {},
   "outputs": [
    {
     "name": "stdout",
     "output_type": "stream",
     "text": [
      "False\n",
      "True\n"
     ]
    }
   ],
   "source": [
    "#checking of lower case only\n",
    "pwd='Aman123'\n",
    "\n",
    "print(pwd.islower())#will return true is string is lowercase\n",
    "\n",
    "s='aman123'\n",
    "print(s.islower())"
   ]
  },
  {
   "cell_type": "code",
   "execution_count": 36,
   "metadata": {},
   "outputs": [
    {
     "name": "stdout",
     "output_type": "stream",
     "text": [
      "False\n",
      "False\n",
      "True\n"
     ]
    }
   ],
   "source": [
    "#checking of spaces only\n",
    "pwd='Aman 123'\n",
    "\n",
    "print(pwd.isspace())#will return true if all are white spaces\n",
    "\n",
    "s='aman123'\n",
    "print(s.isspace())\n",
    "\n",
    "s=' '\n",
    "print(s.isspace())"
   ]
  },
  {
   "cell_type": "code",
   "execution_count": 61,
   "metadata": {},
   "outputs": [
    {
     "ename": "IndentationError",
     "evalue": "unindent does not match any outer indentation level (<ipython-input-61-34d7e4abaff6>, line 8)",
     "output_type": "error",
     "traceback": [
      "\u001b[1;36m  File \u001b[1;32m\"<ipython-input-61-34d7e4abaff6>\"\u001b[1;36m, line \u001b[1;32m8\u001b[0m\n\u001b[1;33m    continue\u001b[0m\n\u001b[1;37m            ^\u001b[0m\n\u001b[1;31mIndentationError\u001b[0m\u001b[1;31m:\u001b[0m unindent does not match any outer indentation level\n"
     ]
    }
   ],
   "source": [
    "#isspace example with list\n",
    "count=0\n",
    "lst=['aman',' ','choudhary', '   ', 'hamrey']\n",
    "for words in lst:\n",
    "    if words.isspace():\n",
    "        count=count+1;\n",
    "        print('it is space')\n",
    "     #continue\n",
    "    else:\n",
    "     print(words)\n",
    "print(count)    \n"
   ]
  },
  {
   "cell_type": "code",
   "execution_count": 45,
   "metadata": {},
   "outputs": [
    {
     "name": "stdout",
     "output_type": "stream",
     "text": [
      "a\n",
      "b\n",
      "c\n"
     ]
    }
   ],
   "source": [
    "#isspace example with tuple\n",
    "tpl=('a',' ','b', '   ', 'c')\n",
    "for words in tpl:\n",
    "    if words.isspace():\n",
    "     continue\n",
    "    else:\n",
    "     print(words)"
   ]
  },
  {
   "cell_type": "code",
   "execution_count": 53,
   "metadata": {},
   "outputs": [
    {
     "name": "stdout",
     "output_type": "stream",
     "text": [
      "['K', 'u', 'n', 'w', 'a', 'r', ' ', 'S', 'a', 't', 'y', 'a', ' ', 'V', 'i', 'r', 'a', ' ', 'C', 'o', 'l', 'l', 'e', 'g', 'e', ' ', 'o', 'f', ' ', 'E', 'n', 'g', 'i', 'n', 'e', 'e', 'r', 'i', 'n', 'g', ' ', 'a', 'n', 'd', ' ', 'M', 'a', 'n', 'a', 'g', 'e', 'm', 'e', 'n', 't']\n",
      "K\n",
      "u\n",
      "n\n",
      "w\n",
      "a\n",
      "r\n",
      " \n",
      "S\n",
      "a\n",
      "t\n",
      "y\n",
      "a\n",
      " \n",
      "V\n",
      "i\n",
      "r\n",
      "a\n",
      " \n",
      "C\n",
      "o\n",
      "l\n",
      "l\n",
      "e\n",
      "g\n",
      "e\n",
      " \n",
      "o\n",
      "f\n",
      " \n",
      "E\n",
      "n\n",
      "g\n",
      "i\n",
      "n\n",
      "e\n",
      "e\n",
      "r\n",
      "i\n",
      "n\n",
      "g\n",
      " \n",
      "a\n",
      "n\n",
      "d\n",
      " \n",
      "M\n",
      "a\n",
      "n\n",
      "a\n",
      "g\n",
      "e\n",
      "m\n",
      "e\n",
      "n\n",
      "t\n"
     ]
    }
   ],
   "source": [
    "#ispace example\n",
    "s='Kunwar Satya Vira College of Engineering and Management'\n",
    "list_str=list(s)\n",
    "print(list_str)\n",
    "for letter in list_str:\n",
    "    if letter.isspace is True:\n",
    "        continue\n",
    "    print(letter)\n",
    "    #new_list=list.(letter)\n",
    "#new_list"
   ]
  },
  {
   "cell_type": "code",
   "execution_count": 62,
   "metadata": {},
   "outputs": [
    {
     "name": "stdout",
     "output_type": "stream",
     "text": [
      "False\n",
      "False\n"
     ]
    },
    {
     "data": {
      "text/plain": [
       "True"
      ]
     },
     "execution_count": 62,
     "metadata": {},
     "output_type": "execute_result"
    }
   ],
   "source": [
    "#istitle example, return ture if string is in title case\n",
    "s='Kunwar Satya Vira College of Engineering and Management'\n",
    "print(s.istitle())\n",
    "\n",
    "s1='Aman kumar'\n",
    "print(s1.istitle())\n",
    "s1='Amankumar'\n",
    "s1.istitle()"
   ]
  },
  {
   "cell_type": "code",
   "execution_count": 63,
   "metadata": {},
   "outputs": [
    {
     "name": "stdout",
     "output_type": "stream",
     "text": [
      "False\n",
      "True\n"
     ]
    },
    {
     "data": {
      "text/plain": [
       "True"
      ]
     },
     "execution_count": 63,
     "metadata": {},
     "output_type": "execute_result"
    }
   ],
   "source": [
    "#isupper example, return ture if string is in upper case\n",
    "s='Kunwar Satya Vira College of Engineering and Management'\n",
    "print(s.isupper())\n",
    "\n",
    "s1='AMAN'\n",
    "print(s1.isupper())\n",
    "s1='AMAN123'\n",
    "s1.isupper()"
   ]
  },
  {
   "cell_type": "code",
   "execution_count": 73,
   "metadata": {},
   "outputs": [
    {
     "name": "stdout",
     "output_type": "stream",
     "text": [
      "True\n",
      "True\n",
      "False\n"
     ]
    },
    {
     "data": {
      "text/plain": [
       "True"
      ]
     },
     "execution_count": 73,
     "metadata": {},
     "output_type": "execute_result"
    }
   ],
   "source": [
    "#endswith, \n",
    "s='Kunwar Satya Vira College of Engineering and Management'\n",
    "print(s.endswith('t'))\n",
    "print(s.endswith('Management'))\n",
    "print(s.endswith('r'))\n",
    "\n",
    "Question='Kunwar Satya Vira College of Engineering and Management?'\n",
    "Question.endswith('?')"
   ]
  },
  {
   "cell_type": "markdown",
   "metadata": {},
   "source": [
    "# split() and partition() function as : Built in Reg Expression"
   ]
  },
  {
   "cell_type": "code",
   "execution_count": 74,
   "metadata": {},
   "outputs": [
    {
     "data": {
      "text/plain": [
       "['Kunwar Satya Vira Coll', 'g', ' of Engin', '', 'ring and Manag', 'm', 'nt']"
      ]
     },
     "execution_count": 74,
     "metadata": {},
     "output_type": "execute_result"
    }
   ],
   "source": [
    "s.split('e')"
   ]
  },
  {
   "cell_type": "code",
   "execution_count": 75,
   "metadata": {},
   "outputs": [
    {
     "data": {
      "text/plain": [
       "['Kunwar Satya Vira Co', 'ege of Engineering and Management']"
      ]
     },
     "execution_count": 75,
     "metadata": {},
     "output_type": "execute_result"
    }
   ],
   "source": [
    "s.split('ll')"
   ]
  },
  {
   "cell_type": "code",
   "execution_count": 76,
   "metadata": {},
   "outputs": [
    {
     "data": {
      "text/plain": [
       "('Kunwar Satya Vira Co', 'll', 'ege of Engineering and Management')"
      ]
     },
     "execution_count": 76,
     "metadata": {},
     "output_type": "execute_result"
    }
   ],
   "source": [
    "#partition\n",
    "s.partition('ll')"
   ]
  },
  {
   "cell_type": "code",
   "execution_count": null,
   "metadata": {},
   "outputs": [],
   "source": []
  }
 ],
 "metadata": {
  "kernelspec": {
   "display_name": "Python 3",
   "language": "python",
   "name": "python3"
  },
  "language_info": {
   "codemirror_mode": {
    "name": "ipython",
    "version": 3
   },
   "file_extension": ".py",
   "mimetype": "text/x-python",
   "name": "python",
   "nbconvert_exporter": "python",
   "pygments_lexer": "ipython3",
   "version": "3.7.0"
  }
 },
 "nbformat": 4,
 "nbformat_minor": 2
}
